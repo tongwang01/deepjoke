{
 "cells": [
  {
   "cell_type": "code",
   "execution_count": 30,
   "metadata": {
    "collapsed": false
   },
   "outputs": [
    {
     "data": {
      "text/plain": [
       "<module 'data_generator' from 'data_generator.pyc'>"
      ]
     },
     "execution_count": 30,
     "metadata": {},
     "output_type": "execute_result"
    }
   ],
   "source": [
    "import os\n",
    "import bleach\n",
    "import re\n",
    "import data_generator\n",
    "import cPickle as pickle\n",
    "\n",
    "reload(data_generator)"
   ]
  },
  {
   "cell_type": "code",
   "execution_count": 24,
   "metadata": {
    "collapsed": false
   },
   "outputs": [],
   "source": [
    "cur_path = os.getcwd()\n",
    "short_jokes_path = cur_path.replace(\n",
    "    \"/code/contrastive_vae\", \"/data/short-jokes-dataset/shortjokes.csv\")\n",
    "hacker_news_path = cur_path.replace(\n",
    "    \"/code/contrastive_vae\", \"/data/hacker-news-dataset/hacker_news_subset_10_to_200.csv\")"
   ]
  },
  {
   "cell_type": "code",
   "execution_count": 25,
   "metadata": {
    "collapsed": true
   },
   "outputs": [],
   "source": [
    "data_gen = data_generator.DataGenerator(\n",
    "    positive_data_path=short_jokes_path,\n",
    "    contrastive_data_path=hacker_news_path,\n",
    "    max_nb_examples=2000)"
   ]
  },
  {
   "cell_type": "code",
   "execution_count": 20,
   "metadata": {
    "collapsed": false
   },
   "outputs": [
    {
     "name": "stderr",
     "output_type": "stream",
     "text": [
      "INFO:data_generator:Read in 231657 positive examples\n",
      "INFO:data_generator:Read in 5000 contrastive examples\n",
      "INFO:data_generator:Combined data has 236657 examples\n",
      "INFO:data_generator:Done cleaning data\n"
     ]
    }
   ],
   "source": [
    "texts, scores = data_gen.read_and_clean()"
   ]
  },
  {
   "cell_type": "markdown",
   "metadata": {},
   "source": [
    "Cleaning html seems necessary."
   ]
  },
  {
   "cell_type": "code",
   "execution_count": 27,
   "metadata": {
    "collapsed": false
   },
   "outputs": [
    {
     "name": "stderr",
     "output_type": "stream",
     "text": [
      "INFO:data_generator:Read in 231657 positive examples\n",
      "INFO:data_generator:Read in 5000 contrastive examples\n",
      "INFO:data_generator:Combined data has 236657 examples\n",
      "INFO:data_generator:Done cleaning data\n",
      "INFO:data_generator:Found 72221 unique words; using 50000 unique words.\n",
      "INFO:data_generator:Using 2000 examples\n",
      "INFO:data_generator:Shape of training features: (1800, 200)\n",
      "INFO:data_generator:Shape of training scores: (1800,)\n",
      "INFO:data_generator:Shape of training features: (200, 200)\n",
      "INFO:data_generator:Shape of training scores: (200,)\n"
     ]
    }
   ],
   "source": [
    "x_train, s_train, x_val, s_val, tokenizer, texts, scores = data_gen.generate()"
   ]
  },
  {
   "cell_type": "code",
   "execution_count": 31,
   "metadata": {
    "collapsed": false
   },
   "outputs": [
    {
     "name": "stderr",
     "output_type": "stream",
     "text": [
      "INFO:data_generator:Read in 231657 positive examples\n",
      "INFO:data_generator:Read in 5000 contrastive examples\n",
      "INFO:data_generator:Combined data has 236657 examples\n",
      "INFO:data_generator:Done cleaning data\n",
      "INFO:data_generator:Found 72221 unique words; using 50000 unique words.\n",
      "INFO:data_generator:Using 2000 examples\n",
      "INFO:data_generator:Shape of training features: (1800, 200)\n",
      "INFO:data_generator:Shape of training scores: (1800,)\n",
      "INFO:data_generator:Shape of training features: (200, 200)\n",
      "INFO:data_generator:Shape of training scores: (200,)\n"
     ]
    }
   ],
   "source": [
    "data_generated = data_gen.generate()"
   ]
  },
  {
   "cell_type": "code",
   "execution_count": 32,
   "metadata": {
    "collapsed": false
   },
   "outputs": [],
   "source": [
    "pickle.dump(data_generated, open(\"data_generated.p\", \"wb\"))"
   ]
  },
  {
   "cell_type": "code",
   "execution_count": 33,
   "metadata": {
    "collapsed": true
   },
   "outputs": [],
   "source": [
    "x_train, s_train, x_val, s_val, tokenizer, texts, scores = data_generated"
   ]
  },
  {
   "cell_type": "code",
   "execution_count": 39,
   "metadata": {
    "collapsed": false
   },
   "outputs": [
    {
     "data": {
      "text/plain": [
       "236657"
      ]
     },
     "execution_count": 39,
     "metadata": {},
     "output_type": "execute_result"
    }
   ],
   "source": [
    "len(texts)"
   ]
  }
 ],
 "metadata": {
  "kernelspec": {
   "display_name": "Python 2",
   "language": "python",
   "name": "python2"
  },
  "language_info": {
   "codemirror_mode": {
    "name": "ipython",
    "version": 2
   },
   "file_extension": ".py",
   "mimetype": "text/x-python",
   "name": "python",
   "nbconvert_exporter": "python",
   "pygments_lexer": "ipython2",
   "version": "2.7.13"
  }
 },
 "nbformat": 4,
 "nbformat_minor": 2
}
