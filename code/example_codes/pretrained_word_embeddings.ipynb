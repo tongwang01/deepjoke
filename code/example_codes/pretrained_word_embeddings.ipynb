{
 "cells": [
  {
   "cell_type": "code",
   "execution_count": 3,
   "metadata": {
    "collapsed": false
   },
   "outputs": [
    {
     "name": "stderr",
     "output_type": "stream",
     "text": [
      "Using TensorFlow backend.\n"
     ]
    },
    {
     "name": "stdout",
     "output_type": "stream",
     "text": [
      "Indexing word vectors.\n",
      "Found 400000 word vectors.\n",
      "Processing text dataset\n",
      "Found 19997 texts.\n"
     ]
    }
   ],
   "source": [
    "'''This script loads pre-trained word embeddings (GloVe embeddings)\n",
    "into a frozen Keras Embedding layer, and uses it to\n",
    "train a text classification model on the 20 Newsgroup dataset\n",
    "(classication of newsgroup messages into 20 different categories).\n",
    "GloVe embedding data can be found at:\n",
    "http://nlp.stanford.edu/data/glove.6B.zip\n",
    "(source page: http://nlp.stanford.edu/projects/glove/)\n",
    "20 Newsgroup data can be found at:\n",
    "http://www.cs.cmu.edu/afs/cs.cmu.edu/project/theo-20/www/data/news20.html\n",
    "'''\n",
    "\n",
    "from __future__ import print_function\n",
    "\n",
    "import os\n",
    "import sys\n",
    "import numpy as np\n",
    "from keras.preprocessing.text import Tokenizer\n",
    "from keras.preprocessing.sequence import pad_sequences\n",
    "from keras.utils import to_categorical\n",
    "from keras.layers import Dense, Input, Flatten\n",
    "from keras.layers import Conv1D, MaxPooling1D, Embedding\n",
    "from keras.models import Model\n",
    "\n",
    "\n",
    "BASE_DIR = ''\n",
    "GLOVE_DIR = '/Users/tongwang/Playground/deepjoke/glove.6B/'\n",
    "TEXT_DATA_DIR = '/Users/tongwang/Playground/deepjoke/code/example_codes/20_newsgroup/'\n",
    "MAX_SEQUENCE_LENGTH = 1000\n",
    "MAX_NB_WORDS = 20000\n",
    "EMBEDDING_DIM = 100\n",
    "VALIDATION_SPLIT = 0.2\n",
    "\n",
    "# first, build index mapping words in the embeddings set\n",
    "# to their embedding vector\n",
    "\n",
    "print('Indexing word vectors.')\n",
    "\n",
    "embeddings_index = {}\n",
    "f = open(os.path.join(GLOVE_DIR, 'glove.6B.100d.txt'))\n",
    "for line in f:\n",
    "    values = line.split()\n",
    "    word = values[0]\n",
    "    coefs = np.asarray(values[1:], dtype='float32')\n",
    "    embeddings_index[word] = coefs\n",
    "f.close()\n",
    "\n",
    "print('Found %s word vectors.' % len(embeddings_index))\n",
    "\n",
    "# second, prepare text samples and their labels\n",
    "print('Processing text dataset')\n",
    "\n",
    "texts = []  # list of text samples\n",
    "labels_index = {}  # dictionary mapping label name to numeric id\n",
    "labels = []  # list of label ids\n",
    "for name in sorted(os.listdir(TEXT_DATA_DIR)):\n",
    "    path = os.path.join(TEXT_DATA_DIR, name)\n",
    "    if os.path.isdir(path):\n",
    "        label_id = len(labels_index)\n",
    "        labels_index[name] = label_id\n",
    "        for fname in sorted(os.listdir(path)):\n",
    "            if fname.isdigit():\n",
    "                fpath = os.path.join(path, fname)\n",
    "                if sys.version_info < (3,):\n",
    "                    f = open(fpath)\n",
    "                else:\n",
    "                    f = open(fpath, encoding='latin-1')\n",
    "                t = f.read()\n",
    "                i = t.find('\\n\\n')  # skip header\n",
    "                if 0 < i:\n",
    "                    t = t[i:]\n",
    "                texts.append(t)\n",
    "                f.close()\n",
    "                labels.append(label_id)\n",
    "\n",
    "print('Found %s texts.' % len(texts))"
   ]
  },
  {
   "cell_type": "code",
   "execution_count": 5,
   "metadata": {
    "collapsed": true
   },
   "outputs": [
    {
     "data": {
      "text/plain": [
       "'\\n\\nArchive-name: atheism/introduction\\nAlt-atheism-archive-name: introduction\\nLast-modified: 5 April 1993\\nVersion: 1.2\\n\\n-----BEGIN PGP SIGNED MESSAGE-----\\n\\n                          An Introduction to Atheism\\n                       by mathew <mathew@mantis.co.uk>\\n\\nThis article attempts to provide a general introduction to atheism.  Whilst I\\nhave tried to be as neutral as possible regarding contentious issues, you\\nshould always remember that this document represents only one viewpoint.  I\\nwould encourage you to read widely and draw your own conclusions; some\\nrelevant books are listed in a companion article.\\n\\nTo provide a sense of cohesion and progression, I have presented this article\\nas an imaginary conversation between an atheist and a theist.  All the\\nquestions asked by the imaginary theist are questions which have been cropped\\nup repeatedly on alt.atheism since the newsgroup was created.  Some other\\nfrequently asked questions are answered in a companion article.\\n\\nPlease note that this article is arguably slanted towards answering questions\\nposed from a Christian viewpoint.  This is because the FAQ files reflect\\nquestions which have actually been asked, and it is predominantly Christians\\nwho proselytize on alt.atheism.\\n\\nSo when I talk of religion, I am talking primarily about religions such as\\nChristianity, Judaism and Islam, which involve some sort of superhuman divine\\nbeing.  Much of the discussion will apply to other religions, but some of it\\nmay not.\\n\\n\"What is atheism?\"\\n\\nAtheism is characterized by an absence of belief in the existence of God.\\nSome atheists go further, and believe that God does not exist.  The former is\\noften referred to as the \"weak atheist\" position, and the latter as \"strong\\natheism\".\\n\\nIt is important to note the difference between these two positions.  \"Weak\\natheism\" is simple scepticism; disbelief in the existence of God.  \"Strong\\natheism\" is a positive belief that God does not exist.  Please do not\\nfall into the trap of assuming that all atheists are \"strong atheists\".\\n\\nSome atheists believe in the non-existence of all Gods; others limit their\\natheism to specific Gods, such as the Christian God, rather than making\\nflat-out denials.\\n\\n\"But isn\\'t disbelieving in God the same thing as believing he doesn\\'t exist?\"\\n\\nDefinitely not.  Disbelief in a proposition means that one does not believe\\nit to be true.  Not believing that something is true is not equivalent to\\nbelieving that it is false; one may simply have no idea whether it is true or\\nnot.  Which brings us to agnosticism.\\n\\n\"What is agnosticism then?\"\\n\\nThe term \\'agnosticism\\' was coined by Professor Huxley at a meeting of the\\nMetaphysical Society in 1876.  He defined an agnostic as someone who\\ndisclaimed (\"strong\") atheism and believed that the ultimate origin of things\\nmust be some cause unknown and unknowable.\\n\\nThus an agnostic is someone who believes that we do not and cannot know for\\nsure whether God exists.\\n\\nWords are slippery things, and language is inexact.  Beware of assuming that\\nyou can work out someone\\'s philosophical point of view simply from the fact\\nthat she calls herself an atheist or an agnostic.  For example, many people\\nuse agnosticism to mean \"weak atheism\", and use the word \"atheism\" only when\\nreferring to \"strong atheism\".\\n\\nBeware also that because the word \"atheist\" has so many shades of meaning, it\\nis very difficult to generalize about atheists.  About all you can say for\\nsure is that atheists don\\'t believe in God.  For example, it certainly isn\\'t\\nthe case that all atheists believe that science is the best way to find out\\nabout the universe.\\n\\n\"So what is the philosophical justification or basis for atheism?\"\\n\\nThere are many philosophical justifications for atheism.  To find out why a\\nparticular person chooses to be an atheist, it\\'s best to ask her.\\n\\nMany atheists feel that the idea of God as presented by the major religions\\nis essentially self-contradictory, and that it is logically impossible that\\nsuch a God could exist.  Others are atheists through scepticism, because they\\nsee no evidence that God exists.\\n\\n\"But isn\\'t it impossible to prove the non-existence of something?\"\\n\\nThere are many counter-examples to such a statement.  For example, it is\\nquite simple to prove that there does not exist a prime number larger than\\nall other prime numbers.  Of course, this deals with well-defined objects\\nobeying well-defined rules.  Whether Gods or universes are similarly\\nwell-defined is a matter for debate.\\n\\nHowever, assuming for the moment that the existence of a God is not provably\\nimpossible, there are still subtle reasons for assuming the non-existence of\\nGod.  If we assume that something does not exist, it is always possible to\\nshow that this assumption is invalid by finding a single counter-example.\\n\\nIf on the other hand we assume that something does exist, and if the thing in\\nquestion is not provably impossible, showing that the assumption is invalid\\nmay require an exhaustive search of all possible places where such a thing\\nmight be found, to show that it isn\\'t there.  Such an exhaustive search is\\noften impractical or impossible.  There is no such problem with largest\\nprimes, because we can prove that they don\\'t exist.\\n\\nTherefore it is generally accepted that we must assume things do not exist\\nunless we have evidence that they do.  Even theists follow this rule most of\\nthe time; they don\\'t believe in unicorns, even though they can\\'t conclusively\\nprove that no unicorns exist anywhere.\\n\\nTo assume that God exists is to make an assumption which probably cannot be\\ntested.  We cannot make an exhaustive search of everywhere God might be to\\nprove that he doesn\\'t exist anywhere.  So the sceptical atheist assumes by\\ndefault that God does not exist, since that is an assumption we can test.\\n\\nThose who profess strong atheism usually do not claim that no sort of God\\nexists; instead, they generally restrict their claims so as to cover\\nvarieties of God described by followers of various religions.  So whilst it\\nmay be impossible to prove conclusively that no God exists, it may be\\npossible to prove that (say) a God as described by a particular religious\\nbook does not exist.  It may even be possible to prove that no God described\\nby any present-day religion exists.\\n\\nIn practice, believing that no God described by any religion exists is very\\nclose to believing that no God exists.  However, it is sufficiently different\\nthat counter-arguments based on the impossibility of disproving every kind of\\nGod are not really applicable.\\n\\n\"But what if God is essentially non-detectable?\"\\n\\nIf God interacts with our universe in any way, the effects of his interaction\\nmust be measurable.  Hence his interaction with our universe must be\\ndetectable.\\n\\nIf God is essentially non-detectable, it must therefore be the case that he\\ndoes not interact with our universe in any way.  Many atheists would argue\\nthat if God does not interact with our universe at all, it is of no\\nimportance whether he exists or not.\\n\\nIf the Bible is to be believed, God was easily detectable by the Israelites.\\nSurely he should still be detectable today?\\n\\nNote that I am not demanding that God interact in a scientifically\\nverifiable, physical way.  It must surely be possible to perceive some\\neffect caused by his presence, though; otherwise, how can I distinguish him\\nfrom all the other things that don\\'t exist?\\n\\n\"OK, you may think there\\'s a philosophical justification for atheism, but\\n isn\\'t it still a religious belief?\"\\n\\nOne of the most common pastimes in philosophical discussion is \"the\\nredefinition game\".  The cynical view of this game is as follows:\\n\\nPerson A begins by making a contentious statement.  When person B points out\\nthat it can\\'t be true, person A gradually re-defines the words he used in the\\nstatement until he arrives at something person B is prepared to accept.  He\\nthen records the statement, along with the fact that person B has agreed to\\nit, and continues.  Eventually A uses the statement as an \"agreed fact\", but\\nuses his original definitions of all the words in it rather than the obscure\\nredefinitions originally needed to get B to agree to it.  Rather than be seen\\nto be apparently inconsistent, B will tend to play along.\\n\\nThe point of this digression is that the answer to the question \"Isn\\'t\\natheism a religious belief?\" depends crucially upon what is meant by\\n\"religious\".  \"Religion\" is generally characterized by belief in a superhuman\\ncontrolling power -- especially in some sort of God -- and by faith and\\nworship.\\n\\n[ It\\'s worth pointing out in passing that some varieties of Buddhism are not\\n  \"religion\" according to such a definition. ]\\n\\nAtheism is certainly not a belief in any sort of superhuman power, nor is it\\ncategorized by worship in any meaningful sense.  Widening the definition of\\n\"religious\" to encompass atheism tends to result in many other aspects of\\nhuman behaviour suddenly becoming classed as \"religious\" as well -- such as\\nscience, politics, and watching TV.\\n\\n\"OK, so it\\'s not a religion.  But surely belief in atheism (or science) is\\n still just an act of faith, like religion is?\"\\n\\nFirstly, it\\'s not entirely clear that sceptical atheism is something one\\nactually believes in.\\n\\nSecondly, it is necessary to adopt a number of core beliefs or assumptions to\\nmake some sort of sense out of the sensory data we experience.  Most atheists\\ntry to adopt as few core beliefs as possible; and even those are subject to\\nquestioning if experience throws them into doubt.\\n\\nScience has a number of core assumptions.  For example, it is generally\\nassumed that the laws of physics are the same for all observers.  These are\\nthe sort of core assumptions atheists make.  If such basic ideas are called\\n\"acts of faith\", then almost everything we know must be said to be based on\\nacts of faith, and the term loses its meaning.\\n\\nFaith is more often used to refer to complete, certain belief in something.\\nAccording to such a definition, atheism and science are certainly not acts of\\nfaith.  Of course, individual atheists or scientists can be as dogmatic as\\nreligious followers when claiming that something is \"certain\".  This is not a\\ngeneral tendency, however; there are many atheists who would be reluctant to\\nstate with certainty that the universe exists.\\n\\nFaith is also used to refer to belief without supporting evidence or proof.\\nSceptical atheism certainly doesn\\'t fit that definition, as sceptical atheism\\nhas no beliefs.  Strong atheism is closer, but still doesn\\'t really match, as\\neven the most dogmatic atheist will tend to refer to experimental data (or\\nthe lack of it) when asserting that God does not exist.\\n\\n\"If atheism is not religious, surely it\\'s anti-religious?\"\\n\\nIt is an unfortunate human tendency to label everyone as either \"for\" or\\n\"against\", \"friend\" or \"enemy\".  The truth is not so clear-cut.\\n\\nAtheism is the position that runs logically counter to theism; in that sense,\\nit can be said to be \"anti-religion\".  However, when religious believers\\nspeak of atheists being \"anti-religious\" they usually mean that the atheists\\nhave some sort of antipathy or hatred towards theists.\\n\\nThis categorization of atheists as hostile towards religion is quite unfair.\\nAtheist attitudes towards theists in fact cover a broad spectrum.\\n\\nMost atheists take a \"live and let live\" attitude.  Unless questioned, they\\nwill not usually mention their atheism, except perhaps to close friends.  Of\\ncourse, this may be in part because atheism is not \"socially acceptable\" in\\nmany countries.\\n\\nA few atheists are quite anti-religious, and may even try to \"convert\" others\\nwhen possible.  Historically, such anti-religious atheists have made little\\nimpact on society outside the Eastern Bloc countries.\\n\\n(To digress slightly: the Soviet Union was originally dedicated to separation\\nof church and state, just like the USA.  Soviet citizens were legally free to\\nworship as they wished.  The institution of \"state atheism\" came about when\\nStalin took control of the Soviet Union and tried to destroy the churches in\\norder to gain complete power over the population.)\\n\\nSome atheists are quite vocal about their beliefs, but only where they see\\nreligion encroaching on matters which are not its business -- for example,\\nthe government of the USA.  Such individuals are usually concerned that\\nchurch and state should remain separate.\\n\\n\"But if you don\\'t allow religion to have a say in the running of the state,\\n surely that\\'s the same as state atheism?\"\\n\\nThe principle of the separation of church and state is that the state shall\\nnot legislate concerning matters of religious belief.  In particular, it\\nmeans not only that the state cannot promote one religion at the expense of\\nanother, but also that it cannot promote any belief which is religious in\\nnature.\\n\\nReligions can still have a say in discussion of purely secular matters.  For\\nexample, religious believers have historically been responsible for\\nencouraging many political reforms.  Even today, many organizations\\ncampaigning for an increase in spending on foreign aid are founded as\\nreligious campaigns.  So long as they campaign concerning secular matters,\\nand so long as they do not discriminate on religious grounds, most atheists\\nare quite happy to see them have their say.\\n\\n\"What about prayer in schools? If there\\'s no God, why do you care if people\\n pray?\"\\n\\nBecause people who do pray are voters and lawmakers, and tend to do things\\nthat those who don\\'t pray can\\'t just ignore.  Also, Christian prayer in\\nschools is intimidating to non-Christians, even if they are told that they\\nneed not join in.  The diversity of religious and non-religious belief means\\nthat it is impossible to formulate a meaningful prayer that will be\\nacceptable to all those present at any public event.\\n\\nAlso, non-prayers tend to have friends and family who pray.  It is reasonable\\nto care about friends and family wasting their time, even without other\\nmotives.\\n\\n\"You mentioned Christians who campaign for increased foreign aid.  What about\\n atheists?  Why aren\\'t there any atheist charities or hospitals?  Don\\'t\\n atheists object to the religious charities?\"\\n\\nThere are many charities without religious purpose that atheists can\\ncontribute to.  Some atheists contribute to religious charities as well, for\\nthe sake of the practical good they do.  Some atheists even do voluntary work\\nfor charities founded on a theistic basis.\\n\\nMost atheists seem to feel that atheism isn\\'t worth shouting about in\\nconnection with charity.  To them, atheism is just a simple, obvious everyday\\nmatter, and so is charity.  Many feel that it\\'s somewhat cheap, not to say\\nself-righteous, to use simple charity as an excuse to plug a particular set\\nof religious beliefs.\\n\\nTo \"weak\" atheists, building a hospital to say \"I do not believe in God\" is a\\nrather strange idea; it\\'s rather like holding a party to say \"Today is not my\\nbirthday\".  Why the fuss?  Atheism is rarely evangelical.\\n\\n\"You said atheism isn\\'t anti-religious.  But is it perhaps a backlash against\\n one\\'s upbringing, a way of rebelling?\"\\n\\nPerhaps it is, for some.  But many people have parents who do not attempt to\\nforce any religious (or atheist) ideas upon them, and many of those people\\nchoose to call themselves atheists.\\n\\nIt\\'s also doubtless the case that some religious people chose religion as a\\nbacklash against an atheist upbringing, as a way of being different.  On the\\nother hand, many people choose religion as a way of conforming to the\\nexpectations of others.\\n\\nOn the whole, we can\\'t conclude much about whether atheism or religion are\\nbacklash or conformism; although in general, people have a tendency to go\\nalong with a group rather than act or think independently.\\n\\n\"How do atheists differ from religious people?\"\\n\\nThey don\\'t believe in God.  That\\'s all there is to it.\\n\\nAtheists may listen to heavy metal -- backwards, even -- or they may prefer a\\nVerdi Requiem, even if they know the words.  They may wear Hawaiian shirts,\\nthey may dress all in black, they may even wear orange robes.  (Many\\nBuddhists lack a belief in any sort of God.)  Some atheists even carry a copy\\nof the Bible around -- for arguing against, of course!\\n\\nWhoever you are, the chances are you have met several atheists without\\nrealising it.  Atheists are usually unexceptional in behaviour and\\nappearance.\\n\\n\"Unexceptional? But aren\\'t atheists less moral than religious people?\"\\n\\nThat depends.  If you define morality as obedience to God, then of course\\natheists are less moral as they don\\'t obey any God.  But usually when one\\ntalks of morality, one talks of what is acceptable (\"right\") and unacceptable\\n(\"wrong\") behaviour within society.\\n\\nHumans are social animals, and to be maximally successful they must\\nco-operate with each other.  This is a good enough reason to discourage most\\natheists from \"anti-social\" or \"immoral\" behaviour, purely for the purposes\\nof self-preservation.\\n\\nMany atheists behave in a \"moral\" or \"compassionate\" way simply because they\\nfeel a natural tendency to empathize with other humans.  So why do they care\\nwhat happens to others?  They don\\'t know, they simply are that way.\\n\\nNaturally, there are some people who behave \"immorally\" and try to use\\natheism to justify their actions.  However, there are equally many people who\\nbehave \"immorally\" and then try to use religious beliefs to justify their\\nactions.  For example:\\n\\n  \"Here is a trustworthy saying that deserves full acceptance: Jesus Christ\\n   came into the world to save sinners...  But for that very reason, I was\\n   shown mercy so that in me...  Jesus Christ might display His unlimited\\n   patience as an example for those who would believe in him and receive\\n   eternal life.  Now to the king eternal, immortal, invisible, the only God,\\n   be honor and glory forever and ever.\"\\n\\nThe above quote is from a statement made to the court on February 17th 1992\\nby Jeffrey Dahmer, the notorious cannibal serial killer of Milwaukee,\\nWisconsin.  It seems that for every atheist mass-murderer, there is a\\nreligious mass-murderer.  But what of more trivial morality?\\n\\n   A survey conducted by the Roper Organization found that behavior\\n   deteriorated after \"born again\" experiences.  While only 4% of respondents\\n   said they had driven intoxicated before being \"born again,\" 12% had done\\n   so after conversion.  Similarly, 5% had used illegal drugs before\\n   conversion, 9% after.  Two percent admitted to engaging in illicit sex\\n   before salvation; 5% after.\\n                                [\"Freethought Today\", September 1991, p. 12.]\\n\\nSo it seems that at best, religion does not have a monopoly on moral\\nbehaviour.\\n\\n\"Is there such a thing as atheist morality?\"\\n\\nIf you mean \"Is there such a thing as morality for atheists?\", then the\\nanswer is yes, as explained above.  Many atheists have ideas about morality\\nwhich are at least as strong as those held by religious people.\\n\\nIf you mean \"Does atheism have a characteristic moral code?\", then the answer\\nis no.  Atheism by itself does not imply anything much about how a person\\nwill behave.  Most atheists follow many of the same \"moral rules\" as theists,\\nbut for different reasons.  Atheists view morality as something created by\\nhumans, according to the way humans feel the world \\'ought\\' to work, rather\\nthan seeing it as a set of rules decreed by a supernatural being.\\n\\n\"Then aren\\'t atheists just theists who are denying God?\"\\n\\nA study by the Freedom From Religion Foundation found that over 90% of the\\natheists who responded became atheists because religion did not work for\\nthem.  They had found that religious beliefs were fundamentally incompatible\\nwith what they observed around them.\\n\\nAtheists are not unbelievers through ignorance or denial; they are\\nunbelievers through choice.  The vast majority of them have spent time\\nstudying one or more religions, sometimes in very great depth.  They have\\nmade a careful and considered decision to reject religious beliefs.\\n\\nThis decision may, of course, be an inevitable consequence of that\\nindividual\\'s personality.  For a naturally sceptical person, the choice\\nof atheism is often the only one that makes sense, and hence the only\\nchoice that person can honestly make.\\n\\n\"But don\\'t atheists want to believe in God?\"\\n\\nAtheists live their lives as though there is nobody watching over them.  Many\\nof them have no desire to be watched over, no matter how good-natured the\\n\"Big Brother\" figure might be.\\n\\nSome atheists would like to be able to believe in God -- but so what? Should\\none believe things merely because one wants them to be true?  The risks of\\nsuch an approach should be obvious.  Atheists often decide that wanting to\\nbelieve something is not enough; there must be evidence for the belief.\\n\\n\"But of course atheists see no evidence for the existence of God -- they are\\n unwilling in their souls to see!\"\\n\\nMany, if not most atheists were previously religious.  As has been explained\\nabove, the vast majority have seriously considered the possibility that God\\nexists.  Many atheists have spent time in prayer trying to reach God.\\n\\nOf course, it is true that some atheists lack an open mind; but assuming that\\nall atheists are biased and insincere is offensive and closed-minded.\\nComments such as \"Of course God is there, you just aren\\'t looking properly\"\\nare likely to be viewed as patronizing.\\n\\nCertainly, if you wish to engage in philosophical debate with atheists it is\\nvital that you give them the benefit of the doubt and assume that they are\\nbeing sincere if they say that they have searched for God.  If you are not\\nwilling to believe that they are basically telling the truth, debate is\\nfutile.\\n\\n\"Isn\\'t the whole of life completely pointless to an atheist?\"\\n\\nMany atheists live a purposeful life.  They decide what they think gives\\nmeaning to life, and they pursue those goals.  They try to make their lives\\ncount, not by wishing for eternal life, but by having an influence on other\\npeople who will live on.  For example, an atheist may dedicate his life to\\npolitical reform, in the hope of leaving his mark on history.\\n\\nIt is a natural human tendency to look for \"meaning\" or \"purpose\" in random\\nevents.  However, it is by no means obvious that \"life\" is the sort of thing\\nthat has a \"meaning\".\\n\\nTo put it another way, not everything which looks like a question is actually\\na sensible thing to ask.  Some atheists believe that asking \"What is the\\nmeaning of life?\" is as silly as asking \"What is the meaning of a cup of\\ncoffee?\".  They believe that life has no purpose or meaning, it just is.\\n\\n\"So how do atheists find comfort in time of danger?\"\\n\\nThere are many ways of obtaining comfort; from family, friends, or even pets.\\nOr on a less spiritual level, from food or drink or TV.\\n\\nThat may sound rather an empty and vulnerable way to face danger, but so\\nwhat?  Should individuals believe in things because they are comforting, or\\nshould they face reality no matter how harsh it might be?\\n\\nIn the end, it\\'s a decision for the individual concerned.  Most atheists are\\nunable to believe something they would not otherwise believe merely because\\nit makes them feel comfortable.  They put truth before comfort, and consider\\nthat if searching for truth sometimes makes them feel unhappy, that\\'s just\\nhard luck.\\n\\n\"Don\\'t atheists worry that they might suddenly be shown to be wrong?\"\\n\\nThe short answer is \"No, do you?\"\\n\\nMany atheists have been atheists for years.  They have encountered many\\narguments and much supposed evidence for the existence of God, but they have\\nfound all of it to be invalid or inconclusive.\\n\\nThousands of years of religious belief haven\\'t resulted in any good proof of\\nthe existence of God.  Atheists therefore tend to feel that they are unlikely\\nto be proved wrong in the immediate future, and they stop worrying about it.\\n\\n\"So why should theists question their beliefs? Don\\'t the same arguments\\n apply?\"\\n\\nNo, because the beliefs being questioned are not similar.  Weak atheism is\\nthe sceptical \"default position\" to take; it asserts nothing.  Strong atheism\\nis a negative belief.  Theism is a very strong positive belief.\\n\\nAtheists sometimes also argue that theists should question their beliefs\\nbecause of the very real harm they can cause -- not just to the believers,\\nbut to everyone else.\\n\\n\"What sort of harm?\"\\n\\nReligion represents a huge financial and work burden on mankind.  It\\'s not\\njust a matter of religious believers wasting their money on church buildings;\\nthink of all the time and effort spent building churches, praying, and so on.\\nImagine how that effort could be better spent.\\n\\nMany theists believe in miracle healing.  There have been plenty of instances\\nof ill people being \"healed\" by a priest, ceasing to take the medicines\\nprescribed to them by doctors, and dying as a result.  Some theists have died\\nbecause they have refused blood transfusions on religious grounds.\\n\\nIt is arguable that the Catholic Church\\'s opposition to birth control -- and\\ncondoms in particular -- is increasing the problem of overpopulation in many\\nthird-world countries and contributing to the spread of AIDS world-wide.\\n\\nReligious believers have been known to murder their children rather than\\nallow their children to become atheists or marry someone of a different\\nreligion.\\n\\n\"Those weren\\'t REAL believers.  They just claimed to be believers as some\\n sort of excuse.\"\\n\\nWhat makes a real believer?  There are so many One True Religions it\\'s hard\\nto tell.  Look at Christianity: there are many competing groups, all\\nconvinced that they are the only true Christians.  Sometimes they even fight\\nand kill each other.  How is an atheist supposed to decide who\\'s a REAL\\nChristian and who isn\\'t, when even the major Christian churches like the\\nCatholic Church and the Church of England can\\'t decide amongst themselves?\\n\\nIn the end, most atheists take a pragmatic view, and decide that anyone who\\ncalls himself a Christian, and uses Christian belief or dogma to justify his\\nactions, should be considered a Christian.  Maybe some of those Christians\\nare just perverting Christian teaching for their own ends -- but surely if\\nthe Bible can be so readily used to support un-Christian acts it can\\'t be\\nmuch of a moral code? If the Bible is the word of God, why couldn\\'t he have\\nmade it less easy to misinterpret? And how do you know that your beliefs\\naren\\'t a perversion of what your God intended?\\n\\nIf there is no single unambiguous interpretation of the Bible, then why\\nshould an atheist take one interpretation over another just on your say-so?\\nSorry, but if someone claims that he believes in Jesus and that he murdered\\nothers because Jesus and the Bible told him to do so, we must call him a\\nChristian.\\n\\n\"Obviously those extreme sorts of beliefs should be questioned.  But since\\n nobody has ever proved that God does not exist, it must be very unlikely\\n that more basic religious beliefs, shared by all faiths, are nonsense.\"\\n\\nThat does not hold, because as was pointed out at the start of this dialogue,\\npositive assertions concerning the existence of entities are inherently much\\nharder to disprove than negative ones.  Nobody has ever proved that unicorns\\ndon\\'t exist, but that doesn\\'t make it unlikely that they are myths.\\n\\nIt is therefore much more valid to hold a negative assertion by default than\\nit is to hold a positive assertion by default.  Of course, \"weak\" atheists\\nwould argue that asserting nothing is better still.\\n\\n\"Well, if atheism\\'s so great, why are there so many theists?\"\\n\\nUnfortunately, the popularity of a belief has little to do with how \"correct\"\\nit is, or whether it \"works\"; consider how many people believe in astrology,\\ngraphology, and other pseudo-sciences.\\n\\nMany atheists feel that it is simply a human weakness to want to believe in\\ngods.  Certainly in many primitive human societies, religion allows the\\npeople to deal with phenomena that they do not adequately understand.\\n\\nOf course, there\\'s more to religion than that.  In the industrialized world,\\nwe find people believing in religious explanations of phenomena even when\\nthere are perfectly adequate natural explanations.  Religion may have started\\nas a means of attempting to explain the world, but nowadays it serves other\\npurposes as well.\\n\\n\"But so many cultures have developed religions.  Surely that must say\\n something?\"\\n\\nNot really.  Most religions are only superficially similar; for example, it\\'s\\nworth remembering that religions such as Buddhism and Taoism lack any sort of\\nconcept of God in the Christian sense.\\n\\nOf course, most religions are quick to denounce competing religions, so it\\'s\\nrather odd to use one religion to try and justify another.\\n\\n\"What about all the famous scientists and philosophers who have concluded\\n that God exists?\"\\n\\nFor every scientist or philosopher who believes in a god, there is one who\\ndoes not.  Besides, as has already been pointed out, the truth of a belief is\\nnot determined by how many people believe it.  Also, it is important to\\nrealize that atheists do not view famous scientists or philosophers in the\\nsame way that theists view their religious leaders.\\n\\nA famous scientist is only human; she may be an expert in some fields, but\\nwhen she talks about other matters her words carry no special weight.  Many\\nrespected scientists have made themselves look foolish by speaking on\\nsubjects which lie outside their fields of expertise.\\n\\n\"So are you really saying that widespread belief in religion indicates\\n nothing?\"\\n\\nNot entirely.  It certainly indicates that the religion in question has\\nproperties which have helped it so spread so far.\\n\\nThe theory of memetics talks of \"memes\" -- sets of ideas which can propagate\\nthemselves between human minds, by analogy with genes.  Some atheists view\\nreligions as sets of particularly successful parasitic memes, which spread by\\nencouraging their hosts to convert others.  Some memes avoid destruction by\\ndiscouraging believers from questioning doctrine, or by using peer pressure\\nto keep one-time believers from admitting that they were mistaken.  Some\\nreligious memes even encourage their hosts to destroy hosts controlled by\\nother memes.\\n\\nOf course, in the memetic view there is no particular virtue associated with\\nsuccessful propagation of a meme.  Religion is not a good thing because of\\nthe number of people who believe it, any more than a disease is a good thing\\nbecause of the number of people who have caught it.\\n\\n\"Even if religion is not entirely true, at least it puts across important\\n messages.  What are the fundamental messages of atheism?\"\\n\\nThere are many important ideas atheists promote.  The following are just a\\nfew of them; don\\'t be surprised to see ideas which are also present in some\\nreligions.\\n\\n   There is more to moral behaviour than mindlessly following rules.\\n\\n   Be especially sceptical of positive claims.\\n\\n   If you want your life to have some sort of meaning, it\\'s up to you to\\n   find it.\\n\\n   Search for what is true, even if it makes you uncomfortable.\\n\\n   Make the most of your life, as it\\'s probably the only one you\\'ll have.\\n\\n   It\\'s no good relying on some external power to change you; you must change\\n   yourself.\\n\\n   Just because something\\'s popular doesn\\'t mean it\\'s good.\\n\\n   If you must assume something, assume something it\\'s easy to test.\\n\\n   Don\\'t believe things just because you want them to be true.\\n\\nand finally (and most importantly):\\n\\n   All beliefs should be open to question.\\n\\nThanks for taking the time to read this article.\\n\\n\\nmathew\\n\\n-----BEGIN PGP SIGNATURE-----\\nVersion: 2.2\\n\\niQCVAgUBK8AjRXzXN+VrOblFAQFSbwP+MHePY4g7ge8Mo5wpsivX+kHYYxMErFAO\\n7ltVtMVTu66Nz6sBbPw9QkbjArbY/S2sZ9NF5htdii0R6SsEyPl0R6/9bV9okE/q\\nnihqnzXE8pGvLt7tlez4EoeHZjXLEFrdEyPVayT54yQqGb4HARbOEHDcrTe2atmP\\nq0Z4hSSPpAU=\\n=q2V5\\n-----END PGP SIGNATURE-----\\n\\nFor information about PGP 2.2, send mail to pgpinfo@mantis.co.uk.\\n\\xff\\n'"
      ]
     },
     "execution_count": 5,
     "metadata": {},
     "output_type": "execute_result"
    }
   ],
   "source": [
    "texts[1]"
   ]
  },
  {
   "cell_type": "code",
   "execution_count": 14,
   "metadata": {
    "collapsed": true
   },
   "outputs": [
    {
     "data": {
      "text/plain": [
       "array([ 0.49597001, -0.14546999,  0.092803  , -0.25106001, -0.12045   ,\n",
       "        1.00590003, -0.050282  ,  0.20682999,  0.25139001,  0.055916  ,\n",
       "       -0.45425999, -0.43435001,  0.0076189 ,  0.21018   ,  0.20463   ,\n",
       "        0.11293   ,  0.26076999, -0.50369   , -0.48829001,  0.61316001,\n",
       "        0.029972  ,  0.51953   , -0.63269001, -0.60302001,  0.54817998,\n",
       "       -0.15798999, -0.51506001, -0.64421999, -0.16043   , -0.064918  ,\n",
       "       -0.51100999,  0.64771998,  0.48971   , -0.025235  , -0.07622   ,\n",
       "        0.29087999, -0.35613999, -0.10575   ,  1.15799999, -0.85842001,\n",
       "        0.33590999,  0.10402   ,  0.0135    , -0.14805   ,  0.12783   ,\n",
       "        0.56646001, -0.98986   , -0.16957   ,  0.20897999, -0.11258   ,\n",
       "       -0.40522   , -0.47797   , -0.0081143 ,  0.65253001, -0.33816001,\n",
       "       -0.018039  , -0.55576003,  0.30227   , -0.37283   ,  0.27875   ,\n",
       "        0.10867   ,  0.1312    , -0.14481001,  0.13123   , -0.014045  ,\n",
       "       -0.33239999,  0.80768001, -0.19089   ,  0.079098  ,  0.22714999,\n",
       "       -0.31709   , -0.029885  ,  0.35591999, -0.050351  , -0.087691  ,\n",
       "       -0.042265  ,  0.2516    , -0.63349003,  0.20629001, -0.3563    ,\n",
       "       -0.036791  , -0.40068001,  0.062486  , -0.33995   , -0.012256  ,\n",
       "       -0.43784001, -0.20732   ,  0.33039999, -0.29032001, -0.55492997,\n",
       "        0.44657001,  0.25964001, -0.059645  , -0.23841   ,  0.27860999,\n",
       "        0.057591  ,  0.10454   ,  0.45291001, -0.034223  ,  0.13811   ], dtype=float32)"
      ]
     },
     "execution_count": 14,
     "metadata": {},
     "output_type": "execute_result"
    }
   ],
   "source": [
    "# Inspect embedding matrix\n",
    "embeddings_index[\"bartender\"]"
   ]
  },
  {
   "cell_type": "code",
   "execution_count": 21,
   "metadata": {
    "collapsed": false
   },
   "outputs": [
    {
     "data": {
      "text/plain": [
       "{'alt.atheism': 0,\n",
       " 'comp.graphics': 1,\n",
       " 'comp.os.ms-windows.misc': 2,\n",
       " 'comp.sys.ibm.pc.hardware': 3,\n",
       " 'comp.sys.mac.hardware': 4,\n",
       " 'comp.windows.x': 5,\n",
       " 'misc.forsale': 6,\n",
       " 'rec.autos': 7,\n",
       " 'rec.motorcycles': 8,\n",
       " 'rec.sport.baseball': 9,\n",
       " 'rec.sport.hockey': 10,\n",
       " 'sci.crypt': 11,\n",
       " 'sci.electronics': 12,\n",
       " 'sci.med': 13,\n",
       " 'sci.space': 14,\n",
       " 'soc.religion.christian': 15,\n",
       " 'talk.politics.guns': 16,\n",
       " 'talk.politics.mideast': 17,\n",
       " 'talk.politics.misc': 18,\n",
       " 'talk.religion.misc': 19}"
      ]
     },
     "execution_count": 21,
     "metadata": {},
     "output_type": "execute_result"
    }
   ],
   "source": [
    "labels_index"
   ]
  },
  {
   "cell_type": "code",
   "execution_count": 6,
   "metadata": {
    "collapsed": false
   },
   "outputs": [
    {
     "name": "stdout",
     "output_type": "stream",
     "text": [
      "Found 174105 unique tokens.\n",
      "Shape of data tensor: (19997, 1000)\n",
      "Shape of label tensor: (19997, 20)\n"
     ]
    }
   ],
   "source": [
    "# finally, vectorize the text samples into a 2D integer tensor\n",
    "tokenizer = Tokenizer(num_words=MAX_NB_WORDS)\n",
    "tokenizer.fit_on_texts(texts)\n",
    "sequences = tokenizer.texts_to_sequences(texts)\n",
    "\n",
    "word_index = tokenizer.word_index\n",
    "print('Found %s unique tokens.' % len(word_index))\n",
    "\n",
    "data = pad_sequences(sequences, maxlen=MAX_SEQUENCE_LENGTH)\n",
    "\n",
    "labels = to_categorical(np.asarray(labels))\n",
    "print('Shape of data tensor:', data.shape)\n",
    "print('Shape of label tensor:', labels.shape)"
   ]
  },
  {
   "cell_type": "code",
   "execution_count": 7,
   "metadata": {
    "collapsed": false
   },
   "outputs": [
    {
     "data": {
      "text/plain": [
       "array([ 1.,  0.,  0.,  0.,  0.,  0.,  0.,  0.,  0.,  0.,  0.,  0.,  0.,\n",
       "        0.,  0.,  0.,  0.,  0.,  0.,  0.])"
      ]
     },
     "execution_count": 7,
     "metadata": {},
     "output_type": "execute_result"
    }
   ],
   "source": [
    "labels[2]"
   ]
  },
  {
   "cell_type": "code",
   "execution_count": 8,
   "metadata": {
    "collapsed": false
   },
   "outputs": [
    {
     "data": {
      "text/plain": [
       "array([    0,     0,     0,     0,     0,     0,     0,     0,     0,\n",
       "           0,     0,     0,     0,     0,     0,     0,     0,     0,\n",
       "           0,     0,     0,     0,     0,     0,     0,     0,     0,\n",
       "           0,     0,     0,     0,     0,     0,     0,     0,     0,\n",
       "           0,     0,     0,     0,     0,     0,     0,     0,     0,\n",
       "           0,     0,     0,     0,     0,     0,     0,     0,     0,\n",
       "           0,     0,     0,     0,     0,     0,     0,     0,     0,\n",
       "           0,     0,     0,     0,     0,     0,     0,     0,     0,\n",
       "           0,     0,     0,     0,     0,     0,     0,     0,     0,\n",
       "           0,     0,     0,     0,     0,     0,     0,     0,     0,\n",
       "           0,     0,     0,     0,     0,     0,     0,     0,     0,\n",
       "           0,     0,     0,     0,     0,     0,     0,     0,     0,\n",
       "           0,     0,     0,     0,     0,     0,     0,     0,     0,\n",
       "           0,     0,     0,     0,     0,     0,     0,     0,     0,\n",
       "           0,     0,     0,     0,     0,     0,     0,     0,     0,\n",
       "           0,     0,     0,     0,     0,     0,     0,     0,     0,\n",
       "           0,     0,     0,     0,     0,     0,     0,     0,     0,\n",
       "           0,     0,     0,     0,     0,     0,     0,     0,     0,\n",
       "           0,     0,     0,     0,     0,     0,     0,     0,     0,\n",
       "           0,     0,     0,     0,     0,     0,     0,     0,     0,\n",
       "           0,     0,     0,     0,     0,     0,     0,     0,     0,\n",
       "           0,     0,     0,     0,     0,     0,     0,     0,     0,\n",
       "           0,     0,     0,     0,     0,     0,     0,     0,     0,\n",
       "           0,     0,     0,     0,     0,     0,     0,     0,     0,\n",
       "           0,     0,     0,     0,     0,     0,     0,     0,     0,\n",
       "           0,     0,     0,     0,     0,     0,     0,     0,     0,\n",
       "           0,     0,     0,     0,     0,     0,     0,     0,     0,\n",
       "           0,     0,     0,     0,     0,     0,     0,     0,     0,\n",
       "           0,     0,     0,     0,     0,     0,     0,     0,     0,\n",
       "           0,     0,     0,     0,     0,     0,     0,     0,     0,\n",
       "           0,     0,     0,     0,     0,     0,     0,     0,     0,\n",
       "           0,     0,     0,     0,     0,     0,     0,     0,     0,\n",
       "           0,     0,     0,     0,     0,     0,     0,     0,     0,\n",
       "           0,     0,     0,     0,     0,     0,     0,     0,     0,\n",
       "           0,     0,     0,     0,     0,     0,     0,     0,     0,\n",
       "           0,     0,     0,     0,     0,     0,     0,     0,     6,\n",
       "          54, 10807,  1732,    26,  8088,   201,  1732,    26,  9773,\n",
       "        8478,    43,   107,   315,    52,     4,   346,   251,    17,\n",
       "        1342,    68,  4297,    39,     8,    58,   362,     9,    51,\n",
       "         200,    18,   575,  3026,     5,     9,     1,  2700,     3,\n",
       "          89,    25,   575,     2,   166,    24,    17,     6,     4,\n",
       "         649,    14,     8,     4,   108,   610,     2,    57,   105,\n",
       "          13,  6236,     4,   246,     1,   610,   654,    21,  1882,\n",
       "          89,  2524,  1305,     6,   315,    24,    17,     6,     1,\n",
       "         522,   120,    27,    70,     6,  1458,    22,  3026,   240,\n",
       "          27,    19,   817,     2,    16,   597,   262,     2,   180,\n",
       "           2,   882,     3,    89,    21,   135,     5,    17,    32,\n",
       "        1631,   251,   432,  1507,     9,    51,  1183,  3026,    38,\n",
       "        1032,   265,   166,   154,  3026,     5,    38,   252,   362,\n",
       "          12,     1,  2213,  2400,     7,    65,    84,    14,  1882,\n",
       "          23,    13,   179,     1,   134,  3236,    91,  3026,   182,\n",
       "          18,   575,   315,    24,   315,     8,    32,  1055,     6,\n",
       "         282,   238,   713,   599,     3,    93,   146,    61,    19,\n",
       "         107,   567,     1,  1259,     3, 18498,    46,    19,   599,\n",
       "         799,     3,  4097,   146,    17,     1,  1191,     3,     1,\n",
       "        3196,     1,  2108,  2292,    12,     1,    93,   329,     3,\n",
       "         429,  1458,     5,  3026,    88,    17,   559,    71,  9579,\n",
       "        5654,    11,   289,  1458,    52,   205,     1,   666,     3,\n",
       "         429,     5,  3026,     9,     3,  1458,     5,   255,     9,\n",
       "           3,   429,    21,    11,     8,  2882,     9,   315,  1183,\n",
       "           1,  2700,     3, 15409,   666,     1,   362,    12,     9,\n",
       "           8,    17,  6189,  7266,    28,  1352, 11427,     3,   315,\n",
       "          18,    83,  2273,   693,   142,     5,    61,    80,    19,\n",
       "          27,  8676,    80,   309,    19,    27,  1140,     7,   690,\n",
       "         216,     1,   414,    31,   501,    11,    25,     7,    84,\n",
       "           6,     1,  1189, 15222,    22,   729,     5,    11,    25,\n",
       "        1371,    21,   309,    21,  9200,  1015,    67,    27,    19,\n",
       "          29,    44,  1015,   121,    42,    27,  7453,   833,    15,\n",
       "           1,   329,    15,  1678,   315,   154,     1,   689,     3,\n",
       "           1,   342,     7,    65,   116,    53,   180,    11,     8,\n",
       "         615,    35,   803,   145,    27,    81,    50,   126,   501,\n",
       "         882,     3,     1,  1146,     5,    11,  1264,     9,    31,\n",
       "         258,   123,     3,    77,   151,  1957,  4097,    21,     1,\n",
       "        1020,     3,    71,  1295,     5,   114,     1,  2370,     3,\n",
       "        3026,     2,   543,    22,   429,     2,   871,    19,    17,\n",
       "        1202,  1688,   107,     4,  6800,  1233,     3,   871,    38,\n",
       "          16,   849,   262,   513,    11,   203,    32,   486,   861,\n",
       "          20,  1494,   343,     3,  5570,     5,  4201,    38,    16,\n",
       "         637,    48,   827,     9,  1026,     2,   130,   112,     7,\n",
       "        1860,   159,     5,     7,    65,    84,     4,    40,  1492,\n",
       "        2602,   432,     8,     9,   349,    23,  3026,     5,   429,\n",
       "           5,  1458,  2424,    71,  2313,  1045,    29,    91,     7,\n",
       "         157,   419,   163,     6,     1,   576,     3,   397, 10692,\n",
       "          29,   320,     2,  3188,     9,    58,    66, 15247,     6,\n",
       "         256,  1170,    40,  1202,   773,    50,   184,   185,    82,\n",
       "          14,     5,    23,   315,     8,     4,    91,   452,   290,\n",
       "          68,     2,    16,   145,     9,   315,    25,     4, 13488,\n",
       "           8,    17,  1202,  1688,     1,  1922,     5,  1031,   861,\n",
       "          20,     1,  4297,    19,   661,   151,    21,     1,   610,\n",
       "           9,   315,    25,     4, 13488, 12978,    15,     1,   476,\n",
       "           6,     1,  3188,     3,   315,   667,     8,    39,    55,\n",
       "          75,   362,    12,    11,    40,  1492,     5,    40,  2038,\n",
       "        2602,     8,   349,   114,     6,   138,   387,  2052,     9,\n",
       "           2,  1170,     3,   597,  1146,     6,   138,  1716,     6,\n",
       "         522, 13633,  6828,    17,   114,     2,   838,   174,     9,\n",
       "        4589,    19,    17,  1342,     1,   259,   835,    11,     8,\n",
       "          86,  1264,     9,   429,    52,    83,  5808,    80,   309,\n",
       "          19,     1, 10785, 11427,     2,    33,   882,    61,    34,\n",
       "          16,     1, 10785,     8,   346,   154,    55,     3,   100,\n",
       "        6689,     5,    11,     8,    17,   114,   947,     1,    76,\n",
       "         579,  5761,     8,   168,     3,     1,  6251,     5,    96,\n",
       "        1349,     4,  4491,     1, 10785,  1681,   252,     4,   858,\n",
       "         580,     3,     2,     1,   180,   142,     1, 17386,  1681,\n",
       "         391,     2,  1111,   174,     6,     1,   134,  1264,  1255,\n",
       "           8,     9,    31,    58,   180,   230,     3,     1,   666,\n",
       "          25,   750,     1,  1310,    29,  3086,   128,    15,     8,\n",
       "         457,   917,   538,     5,   253,     2,  3106,     4,     3,\n",
       "           1,   305,     3,  3026,     6,    75,   560,    40,    88,\n",
       "          17,    74,    35,     1,   486,     3,   429,   139,   221,\n",
       "          64,     5,  1404,   323,    15,   429,    19,   457,  2299,\n",
       "          24,    80,     8,     9,  2074,     2,     4,     3,   315,  5815], dtype=int32)"
      ]
     },
     "execution_count": 8,
     "metadata": {},
     "output_type": "execute_result"
    }
   ],
   "source": [
    "data[2]"
   ]
  },
  {
   "cell_type": "code",
   "execution_count": 24,
   "metadata": {
    "collapsed": false
   },
   "outputs": [
    {
     "data": {
      "text/plain": [
       "['__class__',\n",
       " '__delattr__',\n",
       " '__dict__',\n",
       " '__doc__',\n",
       " '__format__',\n",
       " '__getattribute__',\n",
       " '__hash__',\n",
       " '__init__',\n",
       " '__module__',\n",
       " '__new__',\n",
       " '__reduce__',\n",
       " '__reduce_ex__',\n",
       " '__repr__',\n",
       " '__setattr__',\n",
       " '__sizeof__',\n",
       " '__str__',\n",
       " '__subclasshook__',\n",
       " '__weakref__',\n",
       " 'char_level',\n",
       " 'document_count',\n",
       " 'filters',\n",
       " 'fit_on_sequences',\n",
       " 'fit_on_texts',\n",
       " 'index_docs',\n",
       " 'lower',\n",
       " 'num_words',\n",
       " 'sequences_to_matrix',\n",
       " 'split',\n",
       " 'texts_to_matrix',\n",
       " 'texts_to_sequences',\n",
       " 'texts_to_sequences_generator',\n",
       " 'word_counts',\n",
       " 'word_docs',\n",
       " 'word_index']"
      ]
     },
     "execution_count": 24,
     "metadata": {},
     "output_type": "execute_result"
    }
   ],
   "source": [
    "dir(tokenizer)"
   ]
  },
  {
   "cell_type": "code",
   "execution_count": 36,
   "metadata": {
    "collapsed": false
   },
   "outputs": [
    {
     "data": {
      "text/plain": [
       "'!\"#$%&()*+,-./:;<=>?@[\\\\]^_`{|}~\\t\\n'"
      ]
     },
     "execution_count": 36,
     "metadata": {},
     "output_type": "execute_result"
    }
   ],
   "source": [
    "tokenizer.filters"
   ]
  },
  {
   "cell_type": "code",
   "execution_count": 10,
   "metadata": {
    "collapsed": false
   },
   "outputs": [
    {
     "name": "stdout",
     "output_type": "stream",
     "text": [
      "Preparing embedding matrix.\n",
      "Training model.\n",
      "Train on 15998 samples, validate on 3999 samples\n",
      "Epoch 1/10\n",
      "  128/15998 [..............................] - ETA: 145s - loss: 2.9958 - acc: 0.0469"
     ]
    },
    {
     "ename": "KeyboardInterrupt",
     "evalue": "",
     "output_type": "error",
     "traceback": [
      "\u001b[0;31m---------------------------------------------------------------------------\u001b[0m",
      "\u001b[0;31mKeyboardInterrupt\u001b[0m                         Traceback (most recent call last)",
      "\u001b[0;32m<ipython-input-10-3e6e7c9b8229>\u001b[0m in \u001b[0;36m<module>\u001b[0;34m()\u001b[0m\n\u001b[1;32m     55\u001b[0m           \u001b[0mbatch_size\u001b[0m\u001b[0;34m=\u001b[0m\u001b[0;36m128\u001b[0m\u001b[0;34m,\u001b[0m\u001b[0;34m\u001b[0m\u001b[0m\n\u001b[1;32m     56\u001b[0m           \u001b[0mepochs\u001b[0m\u001b[0;34m=\u001b[0m\u001b[0;36m10\u001b[0m\u001b[0;34m,\u001b[0m\u001b[0;34m\u001b[0m\u001b[0m\n\u001b[0;32m---> 57\u001b[0;31m           validation_data=(x_val, y_val))\n\u001b[0m",
      "\u001b[0;32m//anaconda/lib/python2.7/site-packages/keras/engine/training.pyc\u001b[0m in \u001b[0;36mfit\u001b[0;34m(self, x, y, batch_size, epochs, verbose, callbacks, validation_split, validation_data, shuffle, class_weight, sample_weight, initial_epoch, **kwargs)\u001b[0m\n\u001b[1;32m   1483\u001b[0m                               \u001b[0mval_f\u001b[0m\u001b[0;34m=\u001b[0m\u001b[0mval_f\u001b[0m\u001b[0;34m,\u001b[0m \u001b[0mval_ins\u001b[0m\u001b[0;34m=\u001b[0m\u001b[0mval_ins\u001b[0m\u001b[0;34m,\u001b[0m \u001b[0mshuffle\u001b[0m\u001b[0;34m=\u001b[0m\u001b[0mshuffle\u001b[0m\u001b[0;34m,\u001b[0m\u001b[0;34m\u001b[0m\u001b[0m\n\u001b[1;32m   1484\u001b[0m                               \u001b[0mcallback_metrics\u001b[0m\u001b[0;34m=\u001b[0m\u001b[0mcallback_metrics\u001b[0m\u001b[0;34m,\u001b[0m\u001b[0;34m\u001b[0m\u001b[0m\n\u001b[0;32m-> 1485\u001b[0;31m                               initial_epoch=initial_epoch)\n\u001b[0m\u001b[1;32m   1486\u001b[0m \u001b[0;34m\u001b[0m\u001b[0m\n\u001b[1;32m   1487\u001b[0m     \u001b[0;32mdef\u001b[0m \u001b[0mevaluate\u001b[0m\u001b[0;34m(\u001b[0m\u001b[0mself\u001b[0m\u001b[0;34m,\u001b[0m \u001b[0mx\u001b[0m\u001b[0;34m,\u001b[0m \u001b[0my\u001b[0m\u001b[0;34m,\u001b[0m \u001b[0mbatch_size\u001b[0m\u001b[0;34m=\u001b[0m\u001b[0;36m32\u001b[0m\u001b[0;34m,\u001b[0m \u001b[0mverbose\u001b[0m\u001b[0;34m=\u001b[0m\u001b[0;36m1\u001b[0m\u001b[0;34m,\u001b[0m \u001b[0msample_weight\u001b[0m\u001b[0;34m=\u001b[0m\u001b[0mNone\u001b[0m\u001b[0;34m)\u001b[0m\u001b[0;34m:\u001b[0m\u001b[0;34m\u001b[0m\u001b[0m\n",
      "\u001b[0;32m//anaconda/lib/python2.7/site-packages/keras/engine/training.pyc\u001b[0m in \u001b[0;36m_fit_loop\u001b[0;34m(self, f, ins, out_labels, batch_size, epochs, verbose, callbacks, val_f, val_ins, shuffle, callback_metrics, initial_epoch)\u001b[0m\n\u001b[1;32m   1138\u001b[0m                 \u001b[0mbatch_logs\u001b[0m\u001b[0;34m[\u001b[0m\u001b[0;34m'size'\u001b[0m\u001b[0;34m]\u001b[0m \u001b[0;34m=\u001b[0m \u001b[0mlen\u001b[0m\u001b[0;34m(\u001b[0m\u001b[0mbatch_ids\u001b[0m\u001b[0;34m)\u001b[0m\u001b[0;34m\u001b[0m\u001b[0m\n\u001b[1;32m   1139\u001b[0m                 \u001b[0mcallbacks\u001b[0m\u001b[0;34m.\u001b[0m\u001b[0mon_batch_begin\u001b[0m\u001b[0;34m(\u001b[0m\u001b[0mbatch_index\u001b[0m\u001b[0;34m,\u001b[0m \u001b[0mbatch_logs\u001b[0m\u001b[0;34m)\u001b[0m\u001b[0;34m\u001b[0m\u001b[0m\n\u001b[0;32m-> 1140\u001b[0;31m                 \u001b[0mouts\u001b[0m \u001b[0;34m=\u001b[0m \u001b[0mf\u001b[0m\u001b[0;34m(\u001b[0m\u001b[0mins_batch\u001b[0m\u001b[0;34m)\u001b[0m\u001b[0;34m\u001b[0m\u001b[0m\n\u001b[0m\u001b[1;32m   1141\u001b[0m                 \u001b[0;32mif\u001b[0m \u001b[0;32mnot\u001b[0m \u001b[0misinstance\u001b[0m\u001b[0;34m(\u001b[0m\u001b[0mouts\u001b[0m\u001b[0;34m,\u001b[0m \u001b[0mlist\u001b[0m\u001b[0;34m)\u001b[0m\u001b[0;34m:\u001b[0m\u001b[0;34m\u001b[0m\u001b[0m\n\u001b[1;32m   1142\u001b[0m                     \u001b[0mouts\u001b[0m \u001b[0;34m=\u001b[0m \u001b[0;34m[\u001b[0m\u001b[0mouts\u001b[0m\u001b[0;34m]\u001b[0m\u001b[0;34m\u001b[0m\u001b[0m\n",
      "\u001b[0;32m//anaconda/lib/python2.7/site-packages/keras/backend/tensorflow_backend.pyc\u001b[0m in \u001b[0;36m__call__\u001b[0;34m(self, inputs)\u001b[0m\n\u001b[1;32m   2071\u001b[0m         \u001b[0msession\u001b[0m \u001b[0;34m=\u001b[0m \u001b[0mget_session\u001b[0m\u001b[0;34m(\u001b[0m\u001b[0;34m)\u001b[0m\u001b[0;34m\u001b[0m\u001b[0m\n\u001b[1;32m   2072\u001b[0m         updated = session.run(self.outputs + [self.updates_op],\n\u001b[0;32m-> 2073\u001b[0;31m                               feed_dict=feed_dict)\n\u001b[0m\u001b[1;32m   2074\u001b[0m         \u001b[0;32mreturn\u001b[0m \u001b[0mupdated\u001b[0m\u001b[0;34m[\u001b[0m\u001b[0;34m:\u001b[0m\u001b[0mlen\u001b[0m\u001b[0;34m(\u001b[0m\u001b[0mself\u001b[0m\u001b[0;34m.\u001b[0m\u001b[0moutputs\u001b[0m\u001b[0;34m)\u001b[0m\u001b[0;34m]\u001b[0m\u001b[0;34m\u001b[0m\u001b[0m\n\u001b[1;32m   2075\u001b[0m \u001b[0;34m\u001b[0m\u001b[0m\n",
      "\u001b[0;32m//anaconda/lib/python2.7/site-packages/tensorflow/python/client/session.pyc\u001b[0m in \u001b[0;36mrun\u001b[0;34m(self, fetches, feed_dict, options, run_metadata)\u001b[0m\n\u001b[1;32m    776\u001b[0m     \u001b[0;32mtry\u001b[0m\u001b[0;34m:\u001b[0m\u001b[0;34m\u001b[0m\u001b[0m\n\u001b[1;32m    777\u001b[0m       result = self._run(None, fetches, feed_dict, options_ptr,\n\u001b[0;32m--> 778\u001b[0;31m                          run_metadata_ptr)\n\u001b[0m\u001b[1;32m    779\u001b[0m       \u001b[0;32mif\u001b[0m \u001b[0mrun_metadata\u001b[0m\u001b[0;34m:\u001b[0m\u001b[0;34m\u001b[0m\u001b[0m\n\u001b[1;32m    780\u001b[0m         \u001b[0mproto_data\u001b[0m \u001b[0;34m=\u001b[0m \u001b[0mtf_session\u001b[0m\u001b[0;34m.\u001b[0m\u001b[0mTF_GetBuffer\u001b[0m\u001b[0;34m(\u001b[0m\u001b[0mrun_metadata_ptr\u001b[0m\u001b[0;34m)\u001b[0m\u001b[0;34m\u001b[0m\u001b[0m\n",
      "\u001b[0;32m//anaconda/lib/python2.7/site-packages/tensorflow/python/client/session.pyc\u001b[0m in \u001b[0;36m_run\u001b[0;34m(self, handle, fetches, feed_dict, options, run_metadata)\u001b[0m\n\u001b[1;32m    980\u001b[0m     \u001b[0;32mif\u001b[0m \u001b[0mfinal_fetches\u001b[0m \u001b[0;32mor\u001b[0m \u001b[0mfinal_targets\u001b[0m\u001b[0;34m:\u001b[0m\u001b[0;34m\u001b[0m\u001b[0m\n\u001b[1;32m    981\u001b[0m       results = self._do_run(handle, final_targets, final_fetches,\n\u001b[0;32m--> 982\u001b[0;31m                              feed_dict_string, options, run_metadata)\n\u001b[0m\u001b[1;32m    983\u001b[0m     \u001b[0;32melse\u001b[0m\u001b[0;34m:\u001b[0m\u001b[0;34m\u001b[0m\u001b[0m\n\u001b[1;32m    984\u001b[0m       \u001b[0mresults\u001b[0m \u001b[0;34m=\u001b[0m \u001b[0;34m[\u001b[0m\u001b[0;34m]\u001b[0m\u001b[0;34m\u001b[0m\u001b[0m\n",
      "\u001b[0;32m//anaconda/lib/python2.7/site-packages/tensorflow/python/client/session.pyc\u001b[0m in \u001b[0;36m_do_run\u001b[0;34m(self, handle, target_list, fetch_list, feed_dict, options, run_metadata)\u001b[0m\n\u001b[1;32m   1030\u001b[0m     \u001b[0;32mif\u001b[0m \u001b[0mhandle\u001b[0m \u001b[0;32mis\u001b[0m \u001b[0mNone\u001b[0m\u001b[0;34m:\u001b[0m\u001b[0;34m\u001b[0m\u001b[0m\n\u001b[1;32m   1031\u001b[0m       return self._do_call(_run_fn, self._session, feed_dict, fetch_list,\n\u001b[0;32m-> 1032\u001b[0;31m                            target_list, options, run_metadata)\n\u001b[0m\u001b[1;32m   1033\u001b[0m     \u001b[0;32melse\u001b[0m\u001b[0;34m:\u001b[0m\u001b[0;34m\u001b[0m\u001b[0m\n\u001b[1;32m   1034\u001b[0m       return self._do_call(_prun_fn, self._session, handle, feed_dict,\n",
      "\u001b[0;32m//anaconda/lib/python2.7/site-packages/tensorflow/python/client/session.pyc\u001b[0m in \u001b[0;36m_do_call\u001b[0;34m(self, fn, *args)\u001b[0m\n\u001b[1;32m   1037\u001b[0m   \u001b[0;32mdef\u001b[0m \u001b[0m_do_call\u001b[0m\u001b[0;34m(\u001b[0m\u001b[0mself\u001b[0m\u001b[0;34m,\u001b[0m \u001b[0mfn\u001b[0m\u001b[0;34m,\u001b[0m \u001b[0;34m*\u001b[0m\u001b[0margs\u001b[0m\u001b[0;34m)\u001b[0m\u001b[0;34m:\u001b[0m\u001b[0;34m\u001b[0m\u001b[0m\n\u001b[1;32m   1038\u001b[0m     \u001b[0;32mtry\u001b[0m\u001b[0;34m:\u001b[0m\u001b[0;34m\u001b[0m\u001b[0m\n\u001b[0;32m-> 1039\u001b[0;31m       \u001b[0;32mreturn\u001b[0m \u001b[0mfn\u001b[0m\u001b[0;34m(\u001b[0m\u001b[0;34m*\u001b[0m\u001b[0margs\u001b[0m\u001b[0;34m)\u001b[0m\u001b[0;34m\u001b[0m\u001b[0m\n\u001b[0m\u001b[1;32m   1040\u001b[0m     \u001b[0;32mexcept\u001b[0m \u001b[0merrors\u001b[0m\u001b[0;34m.\u001b[0m\u001b[0mOpError\u001b[0m \u001b[0;32mas\u001b[0m \u001b[0me\u001b[0m\u001b[0;34m:\u001b[0m\u001b[0;34m\u001b[0m\u001b[0m\n\u001b[1;32m   1041\u001b[0m       \u001b[0mmessage\u001b[0m \u001b[0;34m=\u001b[0m \u001b[0mcompat\u001b[0m\u001b[0;34m.\u001b[0m\u001b[0mas_text\u001b[0m\u001b[0;34m(\u001b[0m\u001b[0me\u001b[0m\u001b[0;34m.\u001b[0m\u001b[0mmessage\u001b[0m\u001b[0;34m)\u001b[0m\u001b[0;34m\u001b[0m\u001b[0m\n",
      "\u001b[0;32m//anaconda/lib/python2.7/site-packages/tensorflow/python/client/session.pyc\u001b[0m in \u001b[0;36m_run_fn\u001b[0;34m(session, feed_dict, fetch_list, target_list, options, run_metadata)\u001b[0m\n\u001b[1;32m   1019\u001b[0m         return tf_session.TF_Run(session, options,\n\u001b[1;32m   1020\u001b[0m                                  \u001b[0mfeed_dict\u001b[0m\u001b[0;34m,\u001b[0m \u001b[0mfetch_list\u001b[0m\u001b[0;34m,\u001b[0m \u001b[0mtarget_list\u001b[0m\u001b[0;34m,\u001b[0m\u001b[0;34m\u001b[0m\u001b[0m\n\u001b[0;32m-> 1021\u001b[0;31m                                  status, run_metadata)\n\u001b[0m\u001b[1;32m   1022\u001b[0m \u001b[0;34m\u001b[0m\u001b[0m\n\u001b[1;32m   1023\u001b[0m     \u001b[0;32mdef\u001b[0m \u001b[0m_prun_fn\u001b[0m\u001b[0;34m(\u001b[0m\u001b[0msession\u001b[0m\u001b[0;34m,\u001b[0m \u001b[0mhandle\u001b[0m\u001b[0;34m,\u001b[0m \u001b[0mfeed_dict\u001b[0m\u001b[0;34m,\u001b[0m \u001b[0mfetch_list\u001b[0m\u001b[0;34m)\u001b[0m\u001b[0;34m:\u001b[0m\u001b[0;34m\u001b[0m\u001b[0m\n",
      "\u001b[0;31mKeyboardInterrupt\u001b[0m: "
     ]
    }
   ],
   "source": [
    "# split the data into a training set and a validation set\n",
    "indices = np.arange(data.shape[0])\n",
    "np.random.shuffle(indices)\n",
    "data = data[indices]\n",
    "labels = labels[indices]\n",
    "num_validation_samples = int(VALIDATION_SPLIT * data.shape[0])\n",
    "\n",
    "x_train = data[:-num_validation_samples]\n",
    "y_train = labels[:-num_validation_samples]\n",
    "x_val = data[-num_validation_samples:]\n",
    "y_val = labels[-num_validation_samples:]\n",
    "\n",
    "print('Preparing embedding matrix.')\n",
    "\n",
    "# prepare embedding matrix\n",
    "num_words = min(MAX_NB_WORDS, len(word_index))\n",
    "embedding_matrix = np.zeros((num_words, EMBEDDING_DIM))\n",
    "for word, i in word_index.items():\n",
    "    if i >= MAX_NB_WORDS:\n",
    "        continue\n",
    "    embedding_vector = embeddings_index.get(word)\n",
    "    if embedding_vector is not None:\n",
    "        # words not found in embedding index will be all-zeros.\n",
    "        embedding_matrix[i] = embedding_vector\n",
    "\n",
    "# load pre-trained word embeddings into an Embedding layer\n",
    "# note that we set trainable = False so as to keep the embeddings fixed\n",
    "embedding_layer = Embedding(num_words,\n",
    "                            EMBEDDING_DIM,\n",
    "                            weights=[embedding_matrix],\n",
    "                            input_length=MAX_SEQUENCE_LENGTH,\n",
    "                            trainable=False)\n",
    "\n",
    "print('Training model.')\n",
    "\n",
    "# train a 1D convnet with global maxpooling\n",
    "sequence_input = Input(shape=(MAX_SEQUENCE_LENGTH,), dtype='int32')\n",
    "embedded_sequences = embedding_layer(sequence_input)\n",
    "x = Conv1D(128, 5, activation='relu')(embedded_sequences)\n",
    "x = MaxPooling1D(5)(x)\n",
    "x = Conv1D(128, 5, activation='relu')(x)\n",
    "x = MaxPooling1D(5)(x)\n",
    "x = Conv1D(128, 5, activation='relu')(x)\n",
    "x = MaxPooling1D(35)(x)\n",
    "x = Flatten()(x)\n",
    "x = Dense(128, activation='relu')(x)\n",
    "preds = Dense(len(labels_index), activation='softmax')(x)\n",
    "\n",
    "model = Model(sequence_input, preds)\n",
    "model.compile(loss='categorical_crossentropy',\n",
    "              optimizer='rmsprop',\n",
    "              metrics=['acc'])\n",
    "\n",
    "model.fit(x_train, y_train,\n",
    "          batch_size=128,\n",
    "          epochs=10,\n",
    "          validation_data=(x_val, y_val))"
   ]
  },
  {
   "cell_type": "code",
   "execution_count": 34,
   "metadata": {
    "collapsed": true
   },
   "outputs": [],
   "source": [
    "embedding_layer??"
   ]
  }
 ],
 "metadata": {
  "kernelspec": {
   "display_name": "Python 2",
   "language": "python",
   "name": "python2"
  },
  "language_info": {
   "codemirror_mode": {
    "name": "ipython",
    "version": 2
   },
   "file_extension": ".py",
   "mimetype": "text/x-python",
   "name": "python",
   "nbconvert_exporter": "python",
   "pygments_lexer": "ipython2",
   "version": "2.7.13"
  }
 },
 "nbformat": 4,
 "nbformat_minor": 2
}
