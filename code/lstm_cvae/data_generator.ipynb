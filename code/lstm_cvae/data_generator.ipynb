{
 "cells": [
  {
   "cell_type": "code",
   "execution_count": 1,
   "metadata": {
    "collapsed": false
   },
   "outputs": [
    {
     "name": "stderr",
     "output_type": "stream",
     "text": [
      "Using TensorFlow backend.\n"
     ]
    }
   ],
   "source": [
    "from __future__ import print_function\n",
    "import os\n",
    "import sys\n",
    "from unidecode import unidecode\n",
    "\n",
    "import numpy as np\n",
    "import pandas as pd\n",
    "\n",
    "from keras.preprocessing.text import Tokenizer\n",
    "from keras.preprocessing.sequence import pad_sequences\n",
    "\n",
    "np.random.seed(123)"
   ]
  },
  {
   "cell_type": "code",
   "execution_count": 30,
   "metadata": {
    "collapsed": true
   },
   "outputs": [],
   "source": [
    "class DataGenerator(object):\n",
    "    \"\"\"Class to generate data for deepjoke models\n",
    "    \n",
    "    Main method: generate()\n",
    "    Returns:\n",
    "        -x_train\n",
    "        -y_train_l\n",
    "        -y_train_s\n",
    "        -x_val\n",
    "        -y_val_l\n",
    "        -y_val_s\n",
    "        -tokenizer\n",
    "    \"\"\"\n",
    "    def __init__(self,\n",
    "                 input_path,\n",
    "                 min_score=0, \n",
    "                 max_nb_words=50000,\n",
    "                 max_nb_examples=None,\n",
    "                 max_sequence_length=300,\n",
    "                 validation_split=0.1):\n",
    "        self.input_path = input_path\n",
    "        self.min_score = min_score\n",
    "        self.max_nb_words = max_nb_words\n",
    "        self.max_nb_examples = max_nb_examples\n",
    "        self.max_sequence_length = max_sequence_length\n",
    "        self.validation_split = validation_split\n",
    "\n",
    "    def read_and_clean(self):\n",
    "        \"\"\"Read in and clean reddit jokes data\n",
    "        \n",
    "        Returns:\n",
    "            -texts: list of joke text strings\n",
    "            -scores: list of correpsonding upvote scores\n",
    "        \"\"\"\n",
    "        def combine_title_body((title, body), verify_chars=15):\n",
    "            \"\"\"Helper function to process input data. Given title and body:\n",
    "                - discard title if the first verify_chars chars of title is the same as that of body\n",
    "                - otherwise add title to body\n",
    "            \"\"\"\n",
    "            title_lower = title.lower()\n",
    "            body_lower = body.lower()\n",
    "            if title_lower[0:verify_chars] == body_lower[0:verify_chars]:\n",
    "                combined = body\n",
    "            else:\n",
    "                combined = title + \" \" + body\n",
    "            return combined\n",
    "            return input_data\n",
    "        \n",
    "        def clean_punc(s):\n",
    "            \"\"\"Helper Function to clean up punctuations\"\"\"\n",
    "            s = s.replace(\"...\", \" \")\n",
    "            s = s.replace(\"..\", \" \")\n",
    "            s = s.replace(\"?\", \" ? \")\n",
    "            s = s.replace(\".\", \" . \")\n",
    "            s = s.replace(\",\", \" , \")\n",
    "            return s\n",
    "        \n",
    "        def extract_text_and_score(data):\n",
    "            \"\"\"Extract text and score from pd dataframe\"\"\"\n",
    "            texts = map(combine_title_body, zip(data[\"title\"].tolist(), data[\"body\"].tolist()))\n",
    "            # Get rid of unicode characters\n",
    "            texts = [unidecode(text) for text in texts] \n",
    "            # Clean up punctuations \n",
    "            texts = map(clean_punc, texts) \n",
    "            scores = data[\"score\"].tolist()\n",
    "            return texts, scores\n",
    "        \n",
    "        input_data = pd.read_json(self.input_path, encoding='utf-8')\n",
    "        texts, scores = extract_text_and_score(input_data)\n",
    "        print(\"Read in {} jokes.\".format(len(texts)))\n",
    "        print(\"Read in {} scores.\\n\".format(len(scores)))\n",
    "        return texts, scores\n",
    "    \n",
    "    def maybe_shrink(self, texts, scores):\n",
    "        \"\"\"Shrink data by either minimum score or max number of examples\n",
    "        to speed up development runs.\n",
    "        \"\"\"\n",
    "        if self.min_score > 0:\n",
    "            idx = [i for i in range(len(scores)) if scores[i] >= self.min_score]\n",
    "            texts = [texts[i] for i in idx]\n",
    "            scores = [scores[i] for i in idx]\n",
    "        if self.max_nb_examples is not None:\n",
    "            nb_examples = min(MAX_NB_EXAMPLES, len(texts))\n",
    "            texts = texts[:nb_examples]\n",
    "            scores = scores[:nb_examples]\n",
    "        return texts, scores\n",
    "    \n",
    "    def tokenize(self, texts):\n",
    "        \"\"\"Tokenize text strings into integers\n",
    "        \n",
    "        Returns:\n",
    "            -sequences: tokenized texts\n",
    "            -tokenzier: keras tokenrizer object\n",
    "        \"\"\"\n",
    "        filters = '!\"#$%&()*+-/:;<=>@[\\\\]^_`{|}~\\t\\n'\n",
    "        tokenizer = Tokenizer(num_words=self.max_nb_words, filters=filters)\n",
    "        tokenizer.fit_on_texts(texts)\n",
    "        sequences = tokenizer.texts_to_sequences(texts)\n",
    "        word_index = tokenizer.word_index\n",
    "        num_words = min(self.max_nb_words, len(word_index))\n",
    "        print('Found {} unique words; using {} unique words\\n'.format(len(word_index), num_words))\n",
    "        return sequences, tokenizer\n",
    "    \n",
    "    def pad(self, sequences):\n",
    "        padded_sequences = pad_sequences(sequences, \n",
    "                                        maxlen=self.max_sequence_length,\n",
    "                                        padding='post', truncating='post')\n",
    "        # labels for l model\n",
    "        y_l = padded_sequences\n",
    "        # features\n",
    "        x = np.append(np.zeros((padded_sequences.shape[0],1)), padded_sequences[:,1:],\n",
    "                     axis=1).astype(\"int32\")\n",
    "        y_l = y_l.reshape(y_l.shape[0], y_l.shape[1], 1)\n",
    "        return x, y_l\n",
    "    \n",
    "    def split(self, x, y_l, y_s):\n",
    "        \"\"\"split data into train and test\"\"\"\n",
    "        # Shuffle\n",
    "        idx = np.arange(x.shape[0])\n",
    "        np.random.shuffle(idx)\n",
    "        x = x[idx]\n",
    "        y_l = y_l[idx]\n",
    "        y_s = y_s[idx]\n",
    "        # Split\n",
    "        num_val = int(self.validation_split * x.shape[0])\n",
    "        x_train = x[:-num_val]\n",
    "        y_l_train = y_l[:-num_val]\n",
    "        y_s_train = y_s[:-num_val]\n",
    "        x_val = x[-num_val:]\n",
    "        y_l_val = y_l[-num_val:]\n",
    "        y_s_val = y_s[-num_val:]\n",
    "        return x_train, y_l_train, y_s_train, x_val, y_l_val, y_s_val\n",
    "\n",
    "    def generate(self):\n",
    "        \"\"\"Main function to generate data for deepjoke models\"\"\"\n",
    "        texts, scores = self.read_and_clean()\n",
    "        texts, scores = self.maybe_shrink(texts, scores)\n",
    "        sequences, tokenizer = self.tokenize(texts)\n",
    "        x, y_l = self.pad(sequences)\n",
    "        y_s = np.asarray(scores)\n",
    "        x_train, y_l_train, y_s_train, x_val, y_l_val, y_s_val = self.split(x, y_l, y_s)\n",
    "        print('Shape of training features: {}'.format(x_train.shape))\n",
    "        print('Shape of training language model labels: {}'.format(y_l_train.shape))\n",
    "        print('Shape of training score labels: {}'.format(y_s_train.shape))\n",
    "        print('Shape of validation features: {}'.format(x_val.shape))\n",
    "        print('Shape of validation language model labels: {}'.format(y_l_val.shape))\n",
    "        print('Shape of validation score labels: {}'.format(y_s_val.shape))        \n",
    "        return x_train, y_l_train, y_s_train, x_val, y_l_val, y_s_val, tokenizer            "
   ]
  },
  {
   "cell_type": "code",
   "execution_count": 31,
   "metadata": {
    "collapsed": false
   },
   "outputs": [
    {
     "name": "stdout",
     "output_type": "stream",
     "text": [
      "/Users/tongwang/Playground/deepjoke/joke-dataset/reddit_jokes.json\n"
     ]
    }
   ],
   "source": [
    "BASE_DIR = os.getcwd()\n",
    "TEXT_DATA_DIR = BASE_DIR.replace(\"/code\", '/joke-dataset/') + \"reddit_jokes.json\"\n",
    "print(TEXT_DATA_DIR)"
   ]
  },
  {
   "cell_type": "code",
   "execution_count": 32,
   "metadata": {
    "collapsed": false
   },
   "outputs": [
    {
     "name": "stdout",
     "output_type": "stream",
     "text": [
      "Read in 194553 jokes.\n",
      "Read in 194553 scores.\n",
      "\n",
      "Found 92056 unique words; using 50000 unique words\n",
      "\n",
      "Shape of training features: (175098, 300)\n",
      "Shape of training language model labels: (175098, 300, 1)\n",
      "Shape of training score labels: (175098,)\n",
      "Shape of validation features: (19455, 300)\n",
      "Shape of validation language model labels: (19455, 300, 1)\n",
      "Shape of validation score labels: (19455,)\n"
     ]
    }
   ],
   "source": [
    "# Test\n",
    "data_generator = DataGenerator(input_path=TEXT_DATA_DIR)\n",
    "\n",
    "x_train, y_l_train, y_s_train, x_val, y_l_val, y_s_val, tokenizer = data_generator.generate()"
   ]
  },
  {
   "cell_type": "code",
   "execution_count": 34,
   "metadata": {
    "collapsed": false
   },
   "outputs": [
    {
     "data": {
      "text/plain": [
       "92056"
      ]
     },
     "execution_count": 34,
     "metadata": {},
     "output_type": "execute_result"
    }
   ],
   "source": [
    "len(tokenizer.word_index)"
   ]
  }
 ],
 "metadata": {
  "kernelspec": {
   "display_name": "Python 2",
   "language": "python",
   "name": "python2"
  },
  "language_info": {
   "codemirror_mode": {
    "name": "ipython",
    "version": 2
   },
   "file_extension": ".py",
   "mimetype": "text/x-python",
   "name": "python",
   "nbconvert_exporter": "python",
   "pygments_lexer": "ipython2",
   "version": "2.7.13"
  }
 },
 "nbformat": 4,
 "nbformat_minor": 2
}
