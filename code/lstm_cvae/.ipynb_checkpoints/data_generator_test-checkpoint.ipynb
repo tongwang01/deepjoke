{
 "cells": [
  {
   "cell_type": "code",
   "execution_count": 14,
   "metadata": {
    "collapsed": false
   },
   "outputs": [],
   "source": [
    "import os\n",
    "import data_generator\n",
    "\n",
    "import pandas as pd\n",
    "import numpy as np\n",
    "import seaborn as sns\n",
    "\n",
    "%matplotlib inline"
   ]
  },
  {
   "cell_type": "code",
   "execution_count": 5,
   "metadata": {
    "collapsed": true
   },
   "outputs": [],
   "source": [
    "TEXT_DATA_DIR = \"/Users/tongwang/Playground/deepjoke/joke-dataset/reddit_jokes.json\""
   ]
  },
  {
   "cell_type": "code",
   "execution_count": 12,
   "metadata": {
    "collapsed": false
   },
   "outputs": [
    {
     "name": "stdout",
     "output_type": "stream",
     "text": [
      "Read in 194553 jokes.\n",
      "Read in 194553 scores.\n",
      "\n",
      "Found 92056 unique words; using 50000 unique words\n",
      "\n",
      "Shape of training features: (175098, 300)\n",
      "Shape of training language model labels: (175098, 300, 1)\n",
      "Shape of training score labels: (175098,)\n",
      "Shape of validation features: (19455, 300)\n",
      "Shape of validation language model labels: (19455, 300, 1)\n",
      "Shape of validation score labels: (19455,)\n"
     ]
    }
   ],
   "source": [
    "data_generator = data_generator.DataGenerator(input_path=TEXT_DATA_DIR)\n",
    "\n",
    "x_train, y_l_train, y_s_train, x_val, y_l_val, y_s_val, tokenizer, _ = data_generator.generate()"
   ]
  },
  {
   "cell_type": "code",
   "execution_count": 20,
   "metadata": {
    "collapsed": false
   },
   "outputs": [
    {
     "data": {
      "text/plain": [
       "<matplotlib.axes._subplots.AxesSubplot at 0x121b101d0>"
      ]
     },
     "execution_count": 20,
     "metadata": {},
     "output_type": "execute_result"
    },
    {
     "data": {
      "image/png": "[encoded data removed]",
      "text/plain": [
       "<matplotlib.figure.Figure at 0x12ca99b10>"
      ]
     },
     "metadata": {},
     "output_type": "display_data"
    }
   ],
   "source": [
    "sns.distplot(np.log(y_s_train + np.e))"
   ]
  }
 ],
 "metadata": {
  "kernelspec": {
   "display_name": "Python 2",
   "language": "python",
   "name": "python2"
  },
  "language_info": {
   "codemirror_mode": {
    "name": "ipython",
    "version": 2
   },
   "file_extension": ".py",
   "mimetype": "text/x-python",
   "name": "python",
   "nbconvert_exporter": "python",
   "pygments_lexer": "ipython2",
   "version": "2.7.13"
  }
 },
 "nbformat": 4,
 "nbformat_minor": 2
}
