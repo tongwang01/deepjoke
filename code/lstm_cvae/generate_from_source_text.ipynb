{
 "cells": [
  {
   "cell_type": "code",
   "execution_count": 1,
   "metadata": {
    "collapsed": false
   },
   "outputs": [
    {
     "name": "stderr",
     "output_type": "stream",
     "text": [
      "Using TensorFlow backend.\n"
     ]
    }
   ],
   "source": [
    "# Generate texts from trained models\n",
    "\n",
    "from __future__ import print_function\n",
    "import cPickle as pickle\n",
    "import csv\n",
    "from datetime import datetime\n",
    "\n",
    "import numpy as np\n",
    "import tensorflow as tf\n",
    "\n",
    "from keras import backend as K\n",
    "from keras.models import Model, load_model\n",
    "from keras.preprocessing.sequence import pad_sequences\n",
    "\n",
    "from data_generator import DataGenerator\n",
    "from lstm_cvae_model import ModelConfig\n",
    "\n",
    "def get_sample_config():\n",
    "    sample_config = {\n",
    "        \"model_dir\": \"/Users/tongwang/Playground/deepjoke/code/model_checkpoints/lstm_cvae/20170618_072219\",\n",
    "        \"starter_sentences\": [\"once upon a time\", \"why\", \"trump\"],\n",
    "        \"temperatures\": [None, 0.2],\n",
    "        \"scores\": [1, 5, 10, 20],\n",
    "        \"variations\": [1., 2., 5.]\n",
    "        }\n",
    "    return sample_config\n",
    "\n",
    "def softmax(x):\n",
    "    \"\"\"Compute softmax values for each sets of scores in x.\"\"\"\n",
    "    e_x = np.exp(x - np.max(x))\n",
    "    return e_x / e_x.sum()\n",
    "\n",
    "def sample(preds, temperature=None):\n",
    "    \"\"\"Helper function to sample an index from a probability array; if temperature is None, \n",
    "    then sample greedily\"\"\"\n",
    "    if temperature is None:\n",
    "        return np.argmax(preds)\n",
    "    else:\n",
    "        preds = np.asarray(preds).astype('float64')\n",
    "        preds = softmax(preds)  # Convert logits into probabilities\n",
    "        preds = np.log(preds) / temperature\n",
    "        exp_preds = np.exp(preds)\n",
    "        preds = exp_preds / np.sum(exp_preds)\n",
    "        probas = np.random.multinomial(1, preds, 1)\n",
    "    return np.argmax(probas)\n",
    "\n",
    "def tokens_to_words(tokens, tokenizer, eos=\"\"):\n",
    "    \"\"\"Helper function to turn an 1-d array of tokens tokenized by tokenizer back to words\"\"\"\n",
    "    reverse_word_index = {index: word for word, index in tokenizer.word_index.iteritems()}\n",
    "    reverse_word_index[0] = eos\n",
    "    words = [reverse_word_index.get(token) for token in tokens]\n",
    "    text = \" \".join(words)\n",
    "    return text\n",
    "\n",
    "def generate_text(generator, target_score, model_config, tokenizer, \n",
    "    encoder=None, source_text=None, source_score=None, starter_sentence=\"\", temperature=None, variation=1., eos=\"\"):\n",
    "    \"\"\"Function to generate paragraphs given a target score, a random latent vector,\n",
    "    and (optionally) a starter sentence.\n",
    "    \n",
    "    Args:\n",
    "        -target_score\n",
    "        -generator\n",
    "        -model_config\n",
    "        -tokenizer\n",
    "        -temperature: if None, generate text greedily; otherwise sample stochastically\n",
    "    Returns:\n",
    "        -model_config.batch_size many pieces of text\n",
    "    \"\"\"\n",
    "    # Prepare inputs\n",
    "    if encoder is None:\n",
    "        z = np.random.normal(scale=variation, size=(model_config.batch_size, model_config.latent_size))\n",
    "    else:\n",
    "        source_sequence = tokenizer.texts_to_sequences([source_text])\n",
    "        source_sequence = pad_sequences(source_sequence, maxlen=model_config.max_sequence_length,\n",
    "            padding='post', truncating='post')\n",
    "        source_sequence = np.repeat(source_sequence, model_config.batch_size, axis=0)\n",
    "        source_score = np.repeat(source_score, model_config.batch_size)\n",
    "        z = encoder.predict([source_sequence, source_score])\n",
    "        \n",
    "    scores = np.repeat(target_score, model_config.batch_size)\n",
    "    cur_sentence = [starter_sentence]\n",
    "    cur_sequence = tokenizer.texts_to_sequences(cur_sentence)\n",
    "    cur_sequence = pad_sequences(cur_sequence, maxlen=model_config.max_sequence_length,\n",
    "                                 padding='post', truncating='post')\n",
    "    cur_sequence = np.repeat(cur_sequence, model_config.batch_size, axis=0)\n",
    "    \n",
    "    reverse_word_index = {index: word for word, index in tokenizer.word_index.iteritems()}\n",
    "\n",
    "    # Iteratively predict the next word\n",
    "    true_lens = np.sum(cur_sequence > 0, axis=1)\n",
    "    last_tokens = np.array([cur_sequence[i, true_lens[i]-1] for i in range(model_config.batch_size)])   \n",
    "    while True:\n",
    "        true_lens = np.sum(cur_sequence > 0, axis=1)\n",
    "        if np.min(np.logical_or(\n",
    "            (true_lens == model_config.max_sequence_length),\n",
    "            (last_tokens == 0))) > 0:\n",
    "            break\n",
    "        all_preds = generator.predict([cur_sequence, scores, z])\n",
    "        for i in range(model_config.batch_size):\n",
    "            if last_tokens[i] == 0:\n",
    "                continue\n",
    "            else:\n",
    "                next_preds = all_preds[i, true_lens[i]-1, :]\n",
    "                next_token = sample(next_preds, temperature)\n",
    "                cur_sequence[i, true_lens[i]] = next_token\n",
    "                last_tokens[i] = next_token\n",
    "\n",
    "    pred_texts = []\n",
    "    for i in range(model_config.batch_size):\n",
    "        pred_sequence = cur_sequence[i][cur_sequence[i]>0]\n",
    "        pred_text = tokens_to_words(pred_sequence, tokenizer=tokenizer, eos=eos)\n",
    "        pred_texts.append(pred_text)\n",
    "    \n",
    "    return pred_texts"
   ]
  },
  {
   "cell_type": "code",
   "execution_count": 2,
   "metadata": {
    "collapsed": false
   },
   "outputs": [
    {
     "name": "stderr",
     "output_type": "stream",
     "text": [
      "//anaconda/lib/python2.7/site-packages/keras/models.py:258: UserWarning: No training configuration found in save file: the model was *not* compiled. Compile it manually.\n",
      "  warnings.warn('No training configuration found in save file: '\n"
     ]
    }
   ],
   "source": [
    "sample_config = get_sample_config()\n",
    "\n",
    "# Load models and configs\n",
    "model_dir = sample_config[\"model_dir\"]\n",
    "encoder_path = model_dir + \"/encoder_checkpoint\"\n",
    "generator_path = model_dir + \"/generator_checkpoint\"\n",
    "tokenizer_path = model_dir + \"/tokenizer.p\"\n",
    "model_config_path = model_dir + \"/model_config.p\"\n",
    "encoder = load_model(encoder_path)\n",
    "generator = load_model(generator_path)\n",
    "tokenizer = pickle.load(open(tokenizer_path, \"r\"))\n",
    "model_config = pickle.load(open(model_config_path, \"r\"))\n",
    "generated_text_path = model_dir + \"/generated_text_{:%Y%m%d_%H%M%S}.txt\".format(datetime.now())"
   ]
  },
  {
   "cell_type": "code",
   "execution_count": 9,
   "metadata": {
    "collapsed": true
   },
   "outputs": [],
   "source": [
    "SOURCE_TEXT = \"wife\"\n",
    "SOURCE_SCORE = 2\n",
    "STARTER_SENTENCE = \"a\"\n",
    "TARGET_SCORE = 2\n",
    "\n",
    "texts = generate_text(generator=generator, model_config=model_config, tokenizer=tokenizer,\n",
    "                     encoder=encoder, source_text=SOURCE_TEXT, source_score=SOURCE_SCORE, \n",
    "                    target_score=TARGET_SCORE, starter_sentence=STARTER_SENTENCE, \n",
    "                    temperature=0.2)"
   ]
  },
  {
   "cell_type": "code",
   "execution_count": 10,
   "metadata": {
    "collapsed": false
   },
   "outputs": [
    {
     "data": {
      "text/plain": [
       "[\"a man walks into a bar and asks for a drink . the bartender says , i don't know , i don't know how to get out .\",\n",
       " \"a man walks into a bar and sees a man sitting on a chair . the bartender asks him what he did . the man replies , i don't know , but i just got a little bit of a joke .\",\n",
       " \"a man walks into a bar and says , i have a problem with your face . the man says , well , i'm a good thing .\",\n",
       " \"a man walks into a bar and asks for a drink . the bartender says , you have a drink . the man says , i don't know , but i have no idea .\",\n",
       " \"a man walks into a bar and asks the bartender for a drink . the bartender says , i don't know what i said .\",\n",
       " \"a man walks into a bar and asks for a drink . the bartender says , you have a drink . the man replies , no , i don't know , but i have no idea .\",\n",
       " \"a man walks into a bar and says to the bartender , i got a drink in the bar . the bartender says , i don't know how to do . the man says , i don't know , i just got a million bucks .\",\n",
       " \"a man walks into a bar and asks for a drink . the bartender says , you have a drink . the man says , i don't know , but i don't have any money .\",\n",
       " \"a man walks into a bar and asks for a beer . the bartender says , i don't know what i said .\",\n",
       " \"a man walks into a bar and asks for a beer . the bartender says , you know , i don't know what i was doing .\",\n",
       " 'a man walks into a bar and orders a beer . the bartender says , i have a problem with my wife .',\n",
       " 'a man walks into a bar and says to the bartender , hey , what do you do ?',\n",
       " \"a man walks into a bar and orders a beer . the bartender says , you have a beer . the bartender says , i don't know , but i don't know what i was doing .\",\n",
       " \"a man walks into a bar and orders a beer . the bartender says , i don't know what he wants . the man says , i don't know , but i don't know what i'm doing .\",\n",
       " \"a man walks into a bar and sees a man sitting on a chair . the bartender says , hey , what's you have a drink ? the man says , well , i don't know , i just got a million bucks .\",\n",
       " \"a man walks into a bar and asks for a beer . the bartender says , you have to be a problem . the man says , i don't know , but i don't know what to do .\",\n",
       " 'a man walks into a bar and says , you have a drink .',\n",
       " \"a man walks into a bar and asks the bartender if he can help him . the man says , i don't know what he wants . the man says , i don't know what i was doing .\",\n",
       " \"a man walks into a bar and says , i have a drink for a drink . the man says , hey , i have a problem with your hands . the man replies , i don't know , but i don't have any money .\",\n",
       " 'a man walks into a bar and says to the bartender , hey , do you have a drink ? the man says , i just got a job .',\n",
       " \"a man walks into a bar and orders a beer . the bartender says , i have a drink in the bar . the bartender says , i don't know , but i just got a little bit .\",\n",
       " \"a man walks into a bar and says , bartender , i don't know what it is .\",\n",
       " \"a man walks into a bar and he orders a beer , and a beer . the bartender says , hey , you have a drink . the man says , i don't know , but i have a problem with my eye . the bartender says , i don't know , but i just got a million bucks .\",\n",
       " \"a man walks into a bar and asks for a beer . the bartender says , hey , i have a problem with your hands . the man replies , no , i don't know , but i don't know what i was doing .\",\n",
       " \"a man walks into a bar and orders a beer . the bartender says , i don't know what the hell is .\",\n",
       " \"a man walks into a bar and asks for a drink . the bartender says , i have a drink in the bar . the bartender says , i don't know what i was doing . the bartender says , well , i don't know what i was doing .\",\n",
       " \"a man walks into a bar and orders a beer . the bartender says , i don't know what i was doing .\",\n",
       " \"a man walks into a bar and sees a man sitting on a chair . the bartender says , hey , you have a drink . the man says , i'm a great idea , i don't know , but i just got a million bucks .\",\n",
       " \"a man walks into a bar and asks for a beer . the bartender says , i have a drink , and the bartender says , i don't know , but i don't know what it was .\",\n",
       " \"a man walks into a bar and orders a beer . the bartender says , i don't know what i had in my life .\",\n",
       " \"a man walks into a bar and sees a man sitting on a chair . the bartender says , hey , what's you have a drink ? the man says , no , i don't know , but i just got a million bucks .\",\n",
       " \"a man walks into a bar and sees a man sitting on a chair . he asks the bartender , do you have a drink ? the man replies , no , i don't have a lot of my .\"]"
      ]
     },
     "execution_count": 10,
     "metadata": {},
     "output_type": "execute_result"
    }
   ],
   "source": [
    "texts "
   ]
  }
 ],
 "metadata": {
  "kernelspec": {
   "display_name": "Python 2",
   "language": "python",
   "name": "python2"
  },
  "language_info": {
   "codemirror_mode": {
    "name": "ipython",
    "version": 2
   },
   "file_extension": ".py",
   "mimetype": "text/x-python",
   "name": "python",
   "nbconvert_exporter": "python",
   "pygments_lexer": "ipython2",
   "version": "2.7.13"
  }
 },
 "nbformat": 4,
 "nbformat_minor": 2
}
