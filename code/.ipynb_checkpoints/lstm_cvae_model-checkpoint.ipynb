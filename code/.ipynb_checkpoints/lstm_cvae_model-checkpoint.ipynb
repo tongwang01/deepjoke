{
 "cells": [
  {
   "cell_type": "code",
   "execution_count": 1,
   "metadata": {
    "collapsed": false
   },
   "outputs": [
    {
     "name": "stderr",
     "output_type": "stream",
     "text": [
      "Using TensorFlow backend.\n"
     ]
    }
   ],
   "source": [
    "from __future__ import print_function\n",
    "import os\n",
    "\n",
    "import numpy as np\n",
    "import tensorflow as tf\n",
    "\n",
    "from keras.layers import Dense, LSTM, Embedding, Input\n",
    "from keras.models import Model, load_model\n",
    "\n",
    "from data_generator import DataGenerator"
   ]
  },
  {
   "cell_type": "code",
   "execution_count": 3,
   "metadata": {
    "collapsed": true
   },
   "outputs": [],
   "source": [
    "class Config():\n",
    "    def __init__(self,\n",
    "                 embedding_path,\n",
    "                 embedding_dim=100,\n",
    "                 lstm_size=128,\n",
    "                 kl_weight=1):\n",
    "        self.embedding_dim = embedding_dim\n",
    "        self.embedding_dim = embedding_dim\n",
    "        self.lstm_size = lstm_size\n",
    "        self.kl_weight = kl_weight"
   ]
  },
  {
   "cell_type": "code",
   "execution_count": 2,
   "metadata": {
    "collapsed": true
   },
   "outputs": [],
   "source": [
    "class LstmCvae(object):\n",
    "    \"\"\"Class to hold LSTM CVAE model\"\"\"\n",
    "    def __init__(self, config):\n",
    "        self.embedding_dim = config.embedding_dim\n",
    "        self.embedding_dim = config.embedding_dim\n",
    "        self.lstm_size = config.lstm_size\n",
    "        self.kl_weight = config.kl_weight\n",
    "    \n",
    "    def load_and_add_embedding(self):\n",
    "        "
   ]
  }
 ],
 "metadata": {
  "kernelspec": {
   "display_name": "Python 2",
   "language": "python",
   "name": "python2"
  },
  "language_info": {
   "codemirror_mode": {
    "name": "ipython",
    "version": 2
   },
   "file_extension": ".py",
   "mimetype": "text/x-python",
   "name": "python",
   "nbconvert_exporter": "python",
   "pygments_lexer": "ipython2",
   "version": "2.7.13"
  }
 },
 "nbformat": 4,
 "nbformat_minor": 2
}
